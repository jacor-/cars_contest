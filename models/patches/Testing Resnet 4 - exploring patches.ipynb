{
 "cells": [
  {
   "cell_type": "markdown",
   "metadata": {},
   "source": [
    "### Imports"
   ]
  },
  {
   "cell_type": "code",
   "execution_count": 77,
   "metadata": {},
   "outputs": [],
   "source": [
    "from pylab import *\n",
    "%matplotlib inline\n",
    "rcParams['figure.figsize'] = (15.0, 30.0)"
   ]
  },
  {
   "cell_type": "markdown",
   "metadata": {},
   "source": [
    "* Prepare paths"
   ]
  },
  {
   "cell_type": "code",
   "execution_count": 78,
   "metadata": {},
   "outputs": [],
   "source": [
    "import sys\n",
    "sys.path.append('..')"
   ]
  },
  {
   "cell_type": "markdown",
   "metadata": {},
   "source": [
    "### General data structures"
   ]
  },
  {
   "cell_type": "markdown",
   "metadata": {},
   "source": [
    "* Preload data"
   ]
  },
  {
   "cell_type": "code",
   "execution_count": 79,
   "metadata": {},
   "outputs": [],
   "source": [
    "from dataset import get_positive_patches, get_negative_patches, get_labels, load_image\n",
    "from common import dataset, utils\n",
    "import numpy as np\n",
    "import pandas as pd\n",
    "\n",
    "labels_data, data = dataset.labels_data, dataset.data\n",
    "\n",
    "\n",
    "## This one contains separatedly cars, vans...\n",
    "#vehicle_types = set(dataset.map_category.values())\n",
    "#vehicle_types.add('Empty')\n",
    "\n",
    "map_category = {'A':'A', 'B':'B', 'C':'C', 'D':'D', 'E':'E', 'F':'F', 'G':'G', 'H':'H', 'I':'I'}\n",
    "labels_data = pd.read_csv('../data/trainingObservations.csv')\n",
    "data = get_labels(labels_data, map_category)\n",
    "vehicle_types = set(map_category.values())"
   ]
  },
  {
   "cell_type": "markdown",
   "metadata": {},
   "source": [
    "* Split train and test"
   ]
  },
  {
   "cell_type": "code",
   "execution_count": 80,
   "metadata": {},
   "outputs": [],
   "source": [
    "#test_images = 60\n",
    "#cases = list(data.keys())\n",
    "#np.random.shuffle(cases)\n",
    "#train_cases, test_cases = cases[test_images:], cases[:test_images]\n",
    "#np.save('../data/patch_images/train_cases.npy', train_cases)\n",
    "#np.save('../data/patch_images/test_cases.npy', test_cases)\n",
    "train_cases = np.load('../data/patch_images/train_cases.npy')\n",
    "test_cases  = np.load('../data/patch_images/test_cases.npy')"
   ]
  },
  {
   "cell_type": "code",
   "execution_count": 81,
   "metadata": {
    "collapsed": true
   },
   "outputs": [],
   "source": [
    "vehicle_types.add('Empty')"
   ]
  },
  {
   "cell_type": "code",
   "execution_count": 82,
   "metadata": {},
   "outputs": [],
   "source": [
    "image_size_nn = 48"
   ]
  },
  {
   "cell_type": "markdown",
   "metadata": {
    "scrolled": false
   },
   "source": [
    "### Train a resnet50"
   ]
  },
  {
   "cell_type": "code",
   "execution_count": 83,
   "metadata": {},
   "outputs": [],
   "source": [
    "import os\n",
    "import pandas as pd\n",
    "annotations_path = '../data/patch_images/inferred_annotations'\n",
    "predicted_files = os.listdir(annotations_path)\n",
    "min_thrs = 50"
   ]
  },
  {
   "cell_type": "code",
   "execution_count": 84,
   "metadata": {},
   "outputs": [],
   "source": [
    "def define_solution(row):\n",
    "    if ~np.isnan(row['xpred']) and ~np.isnan(row['ygnd']):\n",
    "        return 'TP'\n",
    "    elif ~np.isnan(row['xpred']) and np.isnan(row['ygnd']):\n",
    "        return 'FP'\n",
    "    elif np.isnan(row['xpred']) and ~np.isnan(row['ygnd']):\n",
    "        return 'FN'\n",
    "\n",
    "def plot_df(filename, df):\n",
    "    imshow(dataset.load_image(filename))\n",
    "    plot(df[df['type'] == 'TP']['xpred'].values, df[df['type'] == 'TP']['ypred'].values, 'og')\n",
    "    plot(df[df['type'] == 'FP']['xpred'].values, df[df['type'] == 'FP']['ypred'].values, 'or')\n",
    "    plot(df[df['type'] == 'FN']['xgnd'].values, df[df['type'] == 'FN']['ygnd'].values, 'oy')\n",
    "\n",
    "\n",
    "def run_eval(filename):\n",
    "    try:\n",
    "        predloc = pd.read_csv(\"%s/%s\" % (annotations_path,filename), names=['x','y'])\n",
    "        predloc['point'] = None\n",
    "    except:\n",
    "        predloc = pd.DataFrame(columns = ['x','y'])\n",
    "\n",
    "    groundloc = []\n",
    "    for vehicle_type in data[filename]:\n",
    "        groundl = pd.DataFrame(data=data[filename][vehicle_type], columns=['y','x'])\n",
    "        groundl['label'] = vehicle_type\n",
    "        groundloc.append(groundl)\n",
    "    groundloc = pd.concat(groundloc)\n",
    "    groundloc['point'] = None        \n",
    "    groundloc.index = range(groundloc.shape[0])\n",
    "    \n",
    "    if groundloc.shape[0] > 0:\n",
    "        for i_pred in predloc.index:\n",
    "\n",
    "            aux = (groundloc[['x','y']] - predloc.ix[i_pred][['x','y']]).abs().max(axis=1)\n",
    "            min_index = aux.argmin()\n",
    "            min_value = aux.min()\n",
    "\n",
    "            predloc.loc[i_pred, 'point'] = i_pred\n",
    "            if min_value <= min_thrs:\n",
    "                groundloc.loc[min_index, 'point'] = i_pred\n",
    "                        \n",
    "    df = pd.merge(predloc, groundloc, on = 'point', how = 'outer', suffixes=['pred','gnd'])\n",
    "    if df.index.shape[0] == 0:\n",
    "        return None, None\n",
    "\n",
    "    df['type'] = df.apply(define_solution, axis = 1)\n",
    "    df['filename'] = filename\n",
    "    res_df = df[['point','type','filename']].fillna(0).groupby(['filename','type']).count().unstack('filename').T\n",
    "    return df, res_df\n",
    "\n",
    "dfs, res_dfs = [], []\n",
    "for filename in predicted_files:\n",
    "    df, res_df = run_eval(filename)\n",
    "    dfs.append(df)\n",
    "    res_dfs.append(res_df)\n",
    "\n",
    "res_dfs = pd.concat(res_dfs).ix['point']\n",
    "dfs = pd.concat(dfs)"
   ]
  },
  {
   "cell_type": "code",
   "execution_count": 91,
   "metadata": {},
   "outputs": [
    {
     "data": {
      "text/html": [
       "<div>\n",
       "<table border=\"1\" class=\"dataframe\">\n",
       "  <thead>\n",
       "    <tr style=\"text-align: right;\">\n",
       "      <th>lbtopredict</th>\n",
       "      <th>A</th>\n",
       "      <th>B</th>\n",
       "      <th>C</th>\n",
       "      <th>D</th>\n",
       "      <th>E</th>\n",
       "      <th>F</th>\n",
       "      <th>FP</th>\n",
       "      <th>G</th>\n",
       "      <th>H</th>\n",
       "      <th>I</th>\n",
       "    </tr>\n",
       "    <tr>\n",
       "      <th>group</th>\n",
       "      <th></th>\n",
       "      <th></th>\n",
       "      <th></th>\n",
       "      <th></th>\n",
       "      <th></th>\n",
       "      <th></th>\n",
       "      <th></th>\n",
       "      <th></th>\n",
       "      <th></th>\n",
       "      <th></th>\n",
       "    </tr>\n",
       "  </thead>\n",
       "  <tbody>\n",
       "    <tr>\n",
       "      <th>Test</th>\n",
       "      <td>0.026208</td>\n",
       "      <td>0.197379</td>\n",
       "      <td>0.067977</td>\n",
       "      <td>0.205569</td>\n",
       "      <td>0.054054</td>\n",
       "      <td>0.031122</td>\n",
       "      <td>0.365274</td>\n",
       "      <td>0.008190</td>\n",
       "      <td>0.034398</td>\n",
       "      <td>0.009828</td>\n",
       "    </tr>\n",
       "    <tr>\n",
       "      <th>Train</th>\n",
       "      <td>0.018355</td>\n",
       "      <td>0.196964</td>\n",
       "      <td>0.077303</td>\n",
       "      <td>0.207907</td>\n",
       "      <td>0.070597</td>\n",
       "      <td>0.043064</td>\n",
       "      <td>0.327921</td>\n",
       "      <td>0.011648</td>\n",
       "      <td>0.037769</td>\n",
       "      <td>0.008472</td>\n",
       "    </tr>\n",
       "  </tbody>\n",
       "</table>\n",
       "</div>"
      ],
      "text/plain": [
       "lbtopredict         A         B         C         D         E         F  \\\n",
       "group                                                                     \n",
       "Test         0.026208  0.197379  0.067977  0.205569  0.054054  0.031122   \n",
       "Train        0.018355  0.196964  0.077303  0.207907  0.070597  0.043064   \n",
       "\n",
       "lbtopredict        FP         G         H         I  \n",
       "group                                                \n",
       "Test         0.365274  0.008190  0.034398  0.009828  \n",
       "Train        0.327921  0.011648  0.037769  0.008472  "
      ]
     },
     "execution_count": 91,
     "metadata": {},
     "output_type": "execute_result"
    }
   ],
   "source": [
    "dfs['x'] = dfs.apply(lambda x: x['xpred'] if np.isnan(x['xgnd']) else x['xgnd'], axis= 1)\n",
    "dfs['y'] = dfs.apply(lambda x: x['ypred'] if np.isnan(x['ygnd']) else x['ygnd'], axis= 1)\n",
    "dfs['lbtopredict'] = dfs.apply(lambda x: 'FP' if type(x['label']) != str else x['label'], axis= 1)\n",
    "dfs['group'] = dfs.apply(lambda x: 'Test' if x['filename'] in test_cases else 'Train', axis = 1)\n",
    "\n",
    "aux = dfs.groupby(['group','lbtopredict'])['x'].count().unstack('lbtopredict')\n",
    "aux.div(aux.sum(axis=1), axis=0)"
   ]
  },
  {
   "cell_type": "code",
   "execution_count": 86,
   "metadata": {},
   "outputs": [
    {
     "name": "stdout",
     "output_type": "stream",
     "text": [
      "0.519980266404 (178,)\n"
     ]
    }
   ],
   "source": [
    "a = res_dfs.sum(axis=0)\n",
    "print(a['TP'] / (a['TP']+a['FP']+a['FN']), res_dfs.index.shape)\n",
    "#res_dfs"
   ]
  },
  {
   "cell_type": "code",
   "execution_count": 87,
   "metadata": {},
   "outputs": [],
   "source": [
    "#file = 'TQ2379_6_0'\n",
    "#plot_df(file, dfs[dfs.filename == file])"
   ]
  },
  {
   "cell_type": "code",
   "execution_count": 88,
   "metadata": {},
   "outputs": [
    {
     "name": "stdout",
     "output_type": "stream",
     "text": [
      "190\r\n"
     ]
    }
   ],
   "source": [
    "ls ../data/patch_images/inferred_annotations/ | wc -l"
   ]
  },
  {
   "cell_type": "code",
   "execution_count": null,
   "metadata": {
    "collapsed": true
   },
   "outputs": [],
   "source": []
  }
 ],
 "metadata": {
  "kernelspec": {
   "display_name": "Python 3",
   "language": "python",
   "name": "python3"
  },
  "language_info": {
   "codemirror_mode": {
    "name": "ipython",
    "version": 3
   },
   "file_extension": ".py",
   "mimetype": "text/x-python",
   "name": "python",
   "nbconvert_exporter": "python",
   "pygments_lexer": "ipython3",
   "version": "3.6.1"
  }
 },
 "nbformat": 4,
 "nbformat_minor": 1
}
