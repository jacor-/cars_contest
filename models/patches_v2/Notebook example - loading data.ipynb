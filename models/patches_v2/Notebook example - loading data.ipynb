{
 "cells": [
  {
   "cell_type": "code",
   "execution_count": 1,
   "metadata": {
    "collapsed": false
   },
   "outputs": [],
   "source": [
    "# This line solves some minor problems when you do not have propery set the PYTHONPATH\n",
    "exec(compile(open(\"fix_paths.py\", \"rb\").read(), \"fix_paths.py\", 'exec'))"
   ]
  },
  {
   "cell_type": "markdown",
   "metadata": {},
   "source": [
    "## Load data example"
   ]
  },
  {
   "cell_type": "code",
   "execution_count": 2,
   "metadata": {
    "collapsed": false
   },
   "outputs": [],
   "source": [
    "from common import dataset_loaders\n",
    "glabels = dataset_loaders.groundlabels_dataframe()\n",
    "\n",
    "map_category = {'A':'Moto', 'B':'Car', 'C':'Car', 'D':'Car', 'E':'Car', 'F':'Car', 'G':'Car', 'H':'Van', 'I':'Bus'}\n",
    "glabels2 = dataset_loaders.map_labels(glabels, map_category)"
   ]
  },
  {
   "cell_type": "markdown",
   "metadata": {},
   "source": [
    "# Plot data example"
   ]
  },
  {
   "cell_type": "code",
   "execution_count": 3,
   "metadata": {
    "collapsed": false
   },
   "outputs": [
    {
     "name": "stdout",
     "output_type": "stream",
     "text": [
      "Populating the interactive namespace from numpy and matplotlib\n"
     ]
    }
   ],
   "source": [
    "from common import plot_utils\n",
    "%matplotlib inline\n",
    "%pylab inline\n",
    "pylab.rcParams['figure.figsize'] = (15, 15)"
   ]
  },
  {
   "cell_type": "code",
   "execution_count": 4,
   "metadata": {
    "collapsed": false
   },
   "outputs": [],
   "source": [
    "#casename = dataset_loaders.get_casenames()[0]\n",
    "#img = dataset_loaders.load_image(casename)\n",
    "#labels = glabels[glabels['image'] == casename]\n",
    "#plot_utils.draw(img, labels)"
   ]
  },
  {
   "cell_type": "code",
   "execution_count": 5,
   "metadata": {
    "collapsed": false
   },
   "outputs": [],
   "source": [
    "#casenames = dataset_loaders.get_casenames()[:10]\n",
    "#imgs = [dataset_loaders.load_image(casename) for casename in casenames]\n",
    "#labs = [glabels[glabels['image'] == casename] for casename in casenames]\n",
    "#plot_utils.multidraw([5,4], imgs, labs)"
   ]
  },
  {
   "cell_type": "markdown",
   "metadata": {},
   "source": [
    "# Example to use loaders"
   ]
  },
  {
   "cell_type": "code",
   "execution_count": 6,
   "metadata": {
    "collapsed": true
   },
   "outputs": [],
   "source": [
    "casename = dataset_loaders.get_casenames()[0]\n",
    "img = dataset_loaders.load_image(casename)\n",
    "labels = glabels[glabels['image'] == casename]"
   ]
  },
  {
   "cell_type": "markdown",
   "metadata": {
    "collapsed": false
   },
   "source": [
    "# Create generators\n"
   ]
  },
  {
   "cell_type": "code",
   "execution_count": 7,
   "metadata": {
    "collapsed": false
   },
   "outputs": [
    {
     "name": "stderr",
     "output_type": "stream",
     "text": [
      "Using TensorFlow backend.\n"
     ]
    }
   ],
   "source": [
    "import settings\n",
    "import os\n",
    "import pandas as pd\n",
    "from common import dataset_loaders\n",
    "import numpy as np\n",
    "from keras.preprocessing.image import ImageDataGenerator\n",
    "from patch_generators.pos_and_negative_fix_size import LabelEncoding, data_generator\n",
    "\n",
    "experiment_name = 'vehicle_empty_resnet_v0'\n",
    "\n",
    "# We create the data structure we need\n",
    "experiment_folder_name = 'patches_single_size'\n",
    "os.system('mkdir -p %s/%s' % (settings.DATAMODEL_PATH, experiment_folder_name))\n",
    "os.system('mkdir -p %s/%s/models' % (settings.DATAMODEL_PATH, experiment_folder_name))\n",
    "os.system('mkdir -p %s/%s/logs' % (settings.DATAMODEL_PATH, experiment_folder_name))\n",
    "\n",
    "OUTPUT_MODEL = '%s/%s/models/vehicle_empty_discriminator.hdf5' % (settings.DATAMODEL_PATH, experiment_folder_name)\n",
    "LOGS_PATH    = '%s/%s/logs/%s' % (settings.DATAMODEL_PATH, experiment_folder_name, experiment_name)\n",
    "\n",
    "\n",
    "\n",
    "image_size_nn = 48\n",
    "num_valid_cases = 60\n",
    "patch_size = 110\n",
    "batch_size = 25\n",
    "\n",
    "restart_valid_train = True\n",
    "\n",
    "\n",
    "def load_labels(restart_valid_train):\n",
    "    # Generate consistent train and validation sets\n",
    "    ## Only do this if the train / validation has not been generated yet\n",
    "    original_labels = dataset_loaders.groundlabels_dataframe()\n",
    "    if restart_valid_train == True:\n",
    "        os.system('rm -f %s/%s/train_df.csv' % (settings.DATAMODEL_PATH, experiment_folder_name))\n",
    "        os.system('rm -f %s/%s/valid_df.csv' % (settings.DATAMODEL_PATH, experiment_folder_name))\n",
    "\n",
    "    if not os.path.exists('%s/%s/train_df.csv' % (settings.DATAMODEL_PATH, experiment_folder_name)) and not os.path.exists('%s/%s/valid_df.csv' % (settings.DATAMODEL_PATH, experiment_folder_name)):\n",
    "        cases = original_labels['image'].unique()\n",
    "        np.random.shuffle(cases)\n",
    "        train_data = original_labels[original_labels.image.isin(cases[num_valid_cases:])]\n",
    "        valid_data = original_labels[~original_labels.image.isin(cases[num_valid_cases:])]\n",
    "\n",
    "        train_data.to_csv('%s/%s/train_df.csv' % (settings.DATAMODEL_PATH, experiment_folder_name), index = False)\n",
    "        valid_data.to_csv('%s/%s/valid_df.csv' % (settings.DATAMODEL_PATH, experiment_folder_name), index = False)\n",
    "    train_data = pd.read_csv('%s/%s/train_df.csv' % (settings.DATAMODEL_PATH, experiment_folder_name))\n",
    "    valid_data = pd.read_csv('%s/%s/valid_df.csv' % (settings.DATAMODEL_PATH, experiment_folder_name))\n",
    "    return original_labels, train_data, valid_data\n",
    "\n",
    "original_labels, train_data, valid_data = load_labels(restart_valid_train)\n",
    "\n",
    "# Initialize these cases\n",
    "## We add background as label to the rest of existing labels\n",
    "existing_labels = np.concatenate([original_labels['class'].unique(), ['background']])\n",
    "labelencoder = LabelEncoding(existing_labels)\n",
    "data_augmentation = ImageDataGenerator(vertical_flip=True, horizontal_flip = True, zoom_range = 0.02, rotation_range=180)\n",
    "\n",
    "train_generator = data_generator(data_augmentation, labelencoder, train_data, batch_size, patch_size, image_size_nn)\n",
    "valid_generator = data_generator(data_augmentation, labelencoder, valid_data, batch_size, patch_size, image_size_nn)\n",
    "\n",
    "#from common import plot_utils\n",
    "#%matplotlib inline\n",
    "#%pylab inline\n",
    "#pylab.rcParams['figure.figsize'] = (15, 15)\n",
    "#for a,b in train_generator:\n",
    "#    break\n",
    "#plot_utils.multidraw([10,5], a)\n",
    "#[labelencoder.get_class_id(rw) for rw in b][:4]"
   ]
  },
  {
   "cell_type": "code",
   "execution_count": 8,
   "metadata": {
    "collapsed": false
   },
   "outputs": [],
   "source": [
    "for a,b in valid_generator:\n",
    "    break"
   ]
  },
  {
   "cell_type": "code",
   "execution_count": null,
   "metadata": {
    "collapsed": false
   },
   "outputs": [
    {
     "data": {
      "text/plain": [
       "(25, 3, 48, 48)"
      ]
     },
     "execution_count": 9,
     "metadata": {},
     "output_type": "execute_result"
    }
   ],
   "source": [
    "a.shape"
   ]
  },
  {
   "cell_type": "markdown",
   "metadata": {},
   "source": [
    "# TRAIN PROCESS"
   ]
  },
  {
   "cell_type": "code",
   "execution_count": null,
   "metadata": {
    "collapsed": false
   },
   "outputs": [
    {
     "name": "stderr",
     "output_type": "stream",
     "text": [
      "/home/jose/tech/ml_projects/kaggle/cars_contest/dl_utils/dl_networks/resnet.py:44: UserWarning: Update your `Conv2D` call to the Keras 2 API: `Conv2D(kernel_size=(7, 7), filters=64, strides=(2, 2), padding=\"same\", kernel_initializer=\"he_normal\", kernel_regularizer=<keras.reg...)`\n",
      "  init=init, border_mode=border_mode, W_regularizer=W_regularizer)(input)\n",
      "/home/jose/tech/ml_projects/kaggle/cars_contest/dl_utils/dl_networks/resnet.py:211: UserWarning: Update your `MaxPooling2D` call to the Keras 2 API: `MaxPooling2D(pool_size=(3, 3), strides=(2, 2), padding=\"same\")`\n",
      "  pool1 = MaxPooling2D(pool_size=(3, 3), strides=(2, 2), border_mode=\"same\")(conv1)\n",
      "/home/jose/tech/ml_projects/kaggle/cars_contest/dl_utils/dl_networks/resnet.py:147: UserWarning: Update your `Conv2D` call to the Keras 2 API: `Conv2D(kernel_size=(1, 1), filters=64, strides=(1, 1), padding=\"same\", kernel_initializer=\"he_normal\", kernel_regularizer=<keras.reg...)`\n",
      "  W_regularizer=l2(0.0001))(input)\n",
      "/home/jose/tech/ml_projects/kaggle/cars_contest/dl_utils/dl_networks/resnet.py:65: UserWarning: Update your `Conv2D` call to the Keras 2 API: `Conv2D(kernel_size=(3, 3), filters=64, strides=(1, 1), padding=\"same\", kernel_initializer=\"he_normal\", kernel_regularizer=<keras.reg...)`\n",
      "  init=init, border_mode=border_mode, W_regularizer=W_regularizer)(activation)\n",
      "/home/jose/tech/ml_projects/kaggle/cars_contest/dl_utils/dl_networks/resnet.py:65: UserWarning: Update your `Conv2D` call to the Keras 2 API: `Conv2D(kernel_size=(1, 1), filters=256, strides=(1, 1), padding=\"same\", kernel_initializer=\"he_normal\", kernel_regularizer=<keras.reg...)`\n",
      "  init=init, border_mode=border_mode, W_regularizer=W_regularizer)(activation)\n",
      "/home/jose/tech/ml_projects/kaggle/cars_contest/dl_utils/dl_networks/resnet.py:89: UserWarning: Update your `Conv2D` call to the Keras 2 API: `Conv2D(kernel_size=(1, 1), filters=256, strides=(1, 1), padding=\"valid\", kernel_initializer=\"he_normal\", kernel_regularizer=<keras.reg...)`\n",
      "  W_regularizer=l2(0.0001))(input)\n",
      "/home/jose/tech/ml_projects/kaggle/cars_contest/dl_utils/dl_networks/resnet.py:91: UserWarning: The `merge` function is deprecated and will be removed after 08/2017. Use instead layers from `keras.layers.merge`, e.g. `add`, `concatenate`, etc.\n",
      "  return merge([shortcut, residual], mode=\"sum\")\n",
      "/home/jose/tech/anaconda3/envs/kgcars/lib/python3.6/site-packages/keras/legacy/layers.py:456: UserWarning: The `Merge` layer is deprecated and will be removed after 08/2017. Use instead layers from `keras.layers.merge`, e.g. `add`, `concatenate`, etc.\n",
      "  name=name)\n",
      "/home/jose/tech/ml_projects/kaggle/cars_contest/dl_utils/dl_networks/resnet.py:65: UserWarning: Update your `Conv2D` call to the Keras 2 API: `Conv2D(kernel_size=(1, 1), filters=64, strides=(1, 1), padding=\"same\", kernel_initializer=\"he_normal\", kernel_regularizer=<keras.reg...)`\n",
      "  init=init, border_mode=border_mode, W_regularizer=W_regularizer)(activation)\n",
      "/home/jose/tech/ml_projects/kaggle/cars_contest/dl_utils/dl_networks/resnet.py:65: UserWarning: Update your `Conv2D` call to the Keras 2 API: `Conv2D(kernel_size=(1, 1), filters=128, strides=(2, 2), padding=\"same\", kernel_initializer=\"he_normal\", kernel_regularizer=<keras.reg...)`\n",
      "  init=init, border_mode=border_mode, W_regularizer=W_regularizer)(activation)\n",
      "/home/jose/tech/ml_projects/kaggle/cars_contest/dl_utils/dl_networks/resnet.py:65: UserWarning: Update your `Conv2D` call to the Keras 2 API: `Conv2D(kernel_size=(3, 3), filters=128, strides=(1, 1), padding=\"same\", kernel_initializer=\"he_normal\", kernel_regularizer=<keras.reg...)`\n",
      "  init=init, border_mode=border_mode, W_regularizer=W_regularizer)(activation)\n",
      "/home/jose/tech/ml_projects/kaggle/cars_contest/dl_utils/dl_networks/resnet.py:65: UserWarning: Update your `Conv2D` call to the Keras 2 API: `Conv2D(kernel_size=(1, 1), filters=512, strides=(1, 1), padding=\"same\", kernel_initializer=\"he_normal\", kernel_regularizer=<keras.reg...)`\n",
      "  init=init, border_mode=border_mode, W_regularizer=W_regularizer)(activation)\n",
      "/home/jose/tech/ml_projects/kaggle/cars_contest/dl_utils/dl_networks/resnet.py:89: UserWarning: Update your `Conv2D` call to the Keras 2 API: `Conv2D(kernel_size=(1, 1), filters=512, strides=(2, 2), padding=\"valid\", kernel_initializer=\"he_normal\", kernel_regularizer=<keras.reg...)`\n",
      "  W_regularizer=l2(0.0001))(input)\n",
      "/home/jose/tech/ml_projects/kaggle/cars_contest/dl_utils/dl_networks/resnet.py:65: UserWarning: Update your `Conv2D` call to the Keras 2 API: `Conv2D(kernel_size=(1, 1), filters=128, strides=(1, 1), padding=\"same\", kernel_initializer=\"he_normal\", kernel_regularizer=<keras.reg...)`\n",
      "  init=init, border_mode=border_mode, W_regularizer=W_regularizer)(activation)\n",
      "/home/jose/tech/ml_projects/kaggle/cars_contest/dl_utils/dl_networks/resnet.py:65: UserWarning: Update your `Conv2D` call to the Keras 2 API: `Conv2D(kernel_size=(1, 1), filters=256, strides=(2, 2), padding=\"same\", kernel_initializer=\"he_normal\", kernel_regularizer=<keras.reg...)`\n",
      "  init=init, border_mode=border_mode, W_regularizer=W_regularizer)(activation)\n",
      "/home/jose/tech/ml_projects/kaggle/cars_contest/dl_utils/dl_networks/resnet.py:65: UserWarning: Update your `Conv2D` call to the Keras 2 API: `Conv2D(kernel_size=(3, 3), filters=256, strides=(1, 1), padding=\"same\", kernel_initializer=\"he_normal\", kernel_regularizer=<keras.reg...)`\n",
      "  init=init, border_mode=border_mode, W_regularizer=W_regularizer)(activation)\n",
      "/home/jose/tech/ml_projects/kaggle/cars_contest/dl_utils/dl_networks/resnet.py:65: UserWarning: Update your `Conv2D` call to the Keras 2 API: `Conv2D(kernel_size=(1, 1), filters=1024, strides=(1, 1), padding=\"same\", kernel_initializer=\"he_normal\", kernel_regularizer=<keras.reg...)`\n",
      "  init=init, border_mode=border_mode, W_regularizer=W_regularizer)(activation)\n",
      "/home/jose/tech/ml_projects/kaggle/cars_contest/dl_utils/dl_networks/resnet.py:89: UserWarning: Update your `Conv2D` call to the Keras 2 API: `Conv2D(kernel_size=(1, 1), filters=1024, strides=(2, 2), padding=\"valid\", kernel_initializer=\"he_normal\", kernel_regularizer=<keras.reg...)`\n",
      "  W_regularizer=l2(0.0001))(input)\n",
      "/home/jose/tech/ml_projects/kaggle/cars_contest/dl_utils/dl_networks/resnet.py:65: UserWarning: Update your `Conv2D` call to the Keras 2 API: `Conv2D(kernel_size=(1, 1), filters=512, strides=(2, 2), padding=\"same\", kernel_initializer=\"he_normal\", kernel_regularizer=<keras.reg...)`\n",
      "  init=init, border_mode=border_mode, W_regularizer=W_regularizer)(activation)\n",
      "/home/jose/tech/ml_projects/kaggle/cars_contest/dl_utils/dl_networks/resnet.py:65: UserWarning: Update your `Conv2D` call to the Keras 2 API: `Conv2D(kernel_size=(3, 3), filters=512, strides=(1, 1), padding=\"same\", kernel_initializer=\"he_normal\", kernel_regularizer=<keras.reg...)`\n",
      "  init=init, border_mode=border_mode, W_regularizer=W_regularizer)(activation)\n",
      "/home/jose/tech/ml_projects/kaggle/cars_contest/dl_utils/dl_networks/resnet.py:65: UserWarning: Update your `Conv2D` call to the Keras 2 API: `Conv2D(kernel_size=(1, 1), filters=2048, strides=(1, 1), padding=\"same\", kernel_initializer=\"he_normal\", kernel_regularizer=<keras.reg...)`\n",
      "  init=init, border_mode=border_mode, W_regularizer=W_regularizer)(activation)\n",
      "/home/jose/tech/ml_projects/kaggle/cars_contest/dl_utils/dl_networks/resnet.py:89: UserWarning: Update your `Conv2D` call to the Keras 2 API: `Conv2D(kernel_size=(1, 1), filters=2048, strides=(2, 2), padding=\"valid\", kernel_initializer=\"he_normal\", kernel_regularizer=<keras.reg...)`\n",
      "  W_regularizer=l2(0.0001))(input)\n"
     ]
    }
   ],
   "source": [
    "import logging\n",
    "from sklearn import metrics\n",
    "from keras import backend as K\n",
    "from keras.optimizers import Adam\n",
    "from keras.callbacks import ModelCheckpoint, Callback\n",
    "from dl_utils.dl_networks.resnet import ResnetBuilder\n",
    "from dl_utils.tb_callback import TensorBoard\n",
    "\n",
    "\n",
    "    \n",
    "\n",
    "logging.basicConfig(level=logging.INFO, format='%(asctime)s  %(levelname)-8s %(message)s', datefmt='%m-%d %H:%M:%S')\n",
    "\n",
    "tb = TensorBoard(log_dir=LOGS_PATH, histogram_freq=1, write_graph=False, write_images=False)  # replace keras.callbacks.TensorBoard\n",
    "model_checkpoint = ModelCheckpoint(OUTPUT_MODEL, monitor='loss', save_best_only=True)\n",
    "\n",
    "# Load model\n",
    "model = ResnetBuilder().build_resnet_50((3,image_size_nn,image_size_nn),len(existing_labels))\n",
    "model.compile(optimizer=Adam(lr=1e-4), loss='categorical_crossentropy', metrics=['accuracy'])#,'fmeasure'])\n",
    "# model.load_weights(OUTPUT_MODEL)\n",
    "\n",
    "K.set_image_dim_ordering('th')\n",
    "K.set_image_data_format('channels_last')\n",
    "model.fit_generator(generator=train_generator,\n",
    "                    steps_per_epoch=50,  # make it small to update TB and CHECKPOINT frequently\n",
    "                    nb_epoch=500,\n",
    "                    verbose=1,\n",
    "                    #class_weight={0:1., 1:4.},\n",
    "                    callbacks=[model_checkpoint], #[tb, model_checkpoint],\n",
    "                    validation_data=valid_generator,  # TODO: is_training=False\n",
    "                    validation_steps=10,\n",
    "                    max_q_size=128,\n",
    "                    nb_worker=1)  # a locker is needed if increased the number of parallel workers"
   ]
  },
  {
   "cell_type": "code",
   "execution_count": null,
   "metadata": {
    "collapsed": true
   },
   "outputs": [],
   "source": []
  },
  {
   "cell_type": "code",
   "execution_count": null,
   "metadata": {
    "collapsed": true
   },
   "outputs": [],
   "source": []
  }
 ],
 "metadata": {
  "kernelspec": {
   "display_name": "Virtulenv_Python_3",
   "language": "python",
   "name": "virtulenv_python_3"
  },
  "language_info": {
   "codemirror_mode": {
    "name": "ipython",
    "version": 3
   },
   "file_extension": ".py",
   "mimetype": "text/x-python",
   "name": "python",
   "nbconvert_exporter": "python",
   "pygments_lexer": "ipython3",
   "version": "3.6.1"
  }
 },
 "nbformat": 4,
 "nbformat_minor": 2
}
