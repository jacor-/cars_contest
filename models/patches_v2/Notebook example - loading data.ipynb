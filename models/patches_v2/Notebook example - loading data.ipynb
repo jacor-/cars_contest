{
 "cells": [
  {
   "cell_type": "code",
   "execution_count": null,
   "metadata": {},
   "outputs": [],
   "source": [
    "# This line solves some minor problems when you do not have propery set the PYTHONPATH\n",
    "exec(compile(open(\"fix_paths.py\", \"rb\").read(), \"fix_paths.py\", 'exec'))"
   ]
  },
  {
   "cell_type": "markdown",
   "metadata": {},
   "source": [
    "## Load data example"
   ]
  },
  {
   "cell_type": "code",
   "execution_count": null,
   "metadata": {},
   "outputs": [],
   "source": [
    "from common import dataset_loaders\n",
    "glabels = dataset_loaders.groundlabels_dataframe()\n",
    "\n",
    "map_category = {'A':'Moto', 'B':'Car', 'C':'Car', 'D':'Car', 'E':'Car', 'F':'Car', 'G':'Car', 'H':'Van', 'I':'Bus'}\n",
    "glabels2 = dataset_loaders.map_labels(glabels, map_category)"
   ]
  },
  {
   "cell_type": "markdown",
   "metadata": {},
   "source": [
    "# Plot data example"
   ]
  },
  {
   "cell_type": "code",
   "execution_count": null,
   "metadata": {},
   "outputs": [],
   "source": [
    "from common import plot_utils\n",
    "%matplotlib inline\n",
    "%pylab inline\n",
    "pylab.rcParams['figure.figsize'] = (15, 15)"
   ]
  },
  {
   "cell_type": "code",
   "execution_count": null,
   "metadata": {},
   "outputs": [],
   "source": [
    "#casename = dataset_loaders.get_casenames()[0]\n",
    "#img = dataset_loaders.load_image(casename)\n",
    "#labels = glabels[glabels['image'] == casename]\n",
    "#plot_utils.draw(img, labels)"
   ]
  },
  {
   "cell_type": "code",
   "execution_count": null,
   "metadata": {},
   "outputs": [],
   "source": [
    "#casenames = dataset_loaders.get_casenames()[:10]\n",
    "#imgs = [dataset_loaders.load_image(casename) for casename in casenames]\n",
    "#labs = [glabels[glabels['image'] == casename] for casename in casenames]\n",
    "#plot_utils.multidraw([5,4], imgs, labs)"
   ]
  },
  {
   "cell_type": "markdown",
   "metadata": {},
   "source": [
    "# Example to use loaders"
   ]
  },
  {
   "cell_type": "code",
   "execution_count": null,
   "metadata": {
    "collapsed": true
   },
   "outputs": [],
   "source": [
    "casename = dataset_loaders.get_casenames()[0]\n",
    "img = dataset_loaders.load_image(casename)\n",
    "labels = glabels[glabels['image'] == casename]"
   ]
  },
  {
   "cell_type": "markdown",
   "metadata": {},
   "source": [
    "# Create generators\n"
   ]
  },
  {
   "cell_type": "code",
   "execution_count": null,
   "metadata": {},
   "outputs": [],
   "source": [
    "import settings\n",
    "import os\n",
    "import pandas as pd\n",
    "from common import dataset_loaders\n",
    "import numpy as np\n",
    "from keras.preprocessing.image import ImageDataGenerator\n",
    "from patch_generators.pos_and_negative_fix_size import LabelEncoding, data_generator\n",
    "\n",
    "experiment_name = 'vehicle_empty_resnet_v0'\n",
    "\n",
    "# We create the data structure we need\n",
    "experiment_folder_name = 'patches_single_size'\n",
    "os.system('mkdir -p %s/%s' % (settings.DATAMODEL_PATH, experiment_folder_name))\n",
    "os.system('mkdir -p %s/%s/models' % (settings.DATAMODEL_PATH, experiment_folder_name))\n",
    "os.system('mkdir -p %s/%s/logs' % (settings.DATAMODEL_PATH, experiment_folder_name))\n",
    "\n",
    "OUTPUT_MODEL = '%s/%s/models/vehicle_empty_discriminator.hdf5' % (settings.DATAMODEL_PATH, experiment_folder_name)\n",
    "LOGS_PATH    = '%s/%s/logs/%s' % (settings.DATAMODEL_PATH, experiment_folder_name, experiment_name)\n",
    "\n",
    "\n",
    "\n",
    "image_size_nn = 48\n",
    "num_valid_cases = 60\n",
    "patch_size = 110\n",
    "batch_size = 25\n",
    "\n",
    "restart_valid_train = True\n",
    "\n",
    "\n",
    "def load_labels(restart_valid_train):\n",
    "    # Generate consistent train and validation sets\n",
    "    ## Only do this if the train / validation has not been generated yet\n",
    "    original_labels = dataset_loaders.groundlabels_dataframe()\n",
    "    if restart_valid_train == True:\n",
    "        os.system('rm -f %s/%s/train_df.csv' % (settings.DATAMODEL_PATH, experiment_folder_name))\n",
    "        os.system('rm -f %s/%s/valid_df.csv' % (settings.DATAMODEL_PATH, experiment_folder_name))\n",
    "\n",
    "    if not os.path.exists('%s/%s/train_df.csv' % (settings.DATAMODEL_PATH, experiment_folder_name)) and not os.path.exists('%s/%s/valid_df.csv' % (settings.DATAMODEL_PATH, experiment_folder_name)):\n",
    "        cases = original_labels['image'].unique()\n",
    "        np.random.shuffle(cases)\n",
    "        train_data = original_labels[original_labels.image.isin(cases[num_valid_cases:])]\n",
    "        valid_data = original_labels[~original_labels.image.isin(cases[num_valid_cases:])]\n",
    "\n",
    "        train_data.to_csv('%s/%s/train_df.csv' % (settings.DATAMODEL_PATH, experiment_folder_name), index = False)\n",
    "        valid_data.to_csv('%s/%s/valid_df.csv' % (settings.DATAMODEL_PATH, experiment_folder_name), index = False)\n",
    "    train_data = pd.read_csv('%s/%s/train_df.csv' % (settings.DATAMODEL_PATH, experiment_folder_name))\n",
    "    valid_data = pd.read_csv('%s/%s/valid_df.csv' % (settings.DATAMODEL_PATH, experiment_folder_name))\n",
    "    return original_labels, train_data, valid_data\n",
    "\n",
    "original_labels, train_data, valid_data = load_labels(restart_valid_train)\n",
    "\n",
    "# Initialize these cases\n",
    "## We add background as label to the rest of existing labels\n",
    "existing_labels = np.concatenate([original_labels['class'].unique(), ['background']])\n",
    "labelencoder = LabelEncoding(existing_labels)\n",
    "data_augmentation = ImageDataGenerator(vertical_flip=True, horizontal_flip = True, zoom_range = 0.02, rotation_range=180)\n",
    "\n",
    "train_generator = data_generator(data_augmentation, labelencoder, train_data, batch_size, patch_size, image_size_nn)\n",
    "valid_generator = data_generator(data_augmentation, labelencoder, valid_data, batch_size, patch_size, image_size_nn)\n",
    "\n",
    "#from common import plot_utils\n",
    "#%matplotlib inline\n",
    "#%pylab inline\n",
    "#pylab.rcParams['figure.figsize'] = (15, 15)\n",
    "#for a,b in train_generator:\n",
    "#    break\n",
    "#plot_utils.multidraw([10,5], a)\n",
    "#[labelencoder.get_class_id(rw) for rw in b][:4]"
   ]
  },
  {
   "cell_type": "code",
   "execution_count": null,
   "metadata": {},
   "outputs": [],
   "source": [
    "for a,b in valid_generator:\n",
    "    break"
   ]
  },
  {
   "cell_type": "code",
   "execution_count": null,
   "metadata": {},
   "outputs": [],
   "source": [
    "a.shape"
   ]
  },
  {
   "cell_type": "markdown",
   "metadata": {},
   "source": [
    "# TRAIN PROCESS"
   ]
  },
  {
   "cell_type": "code",
   "execution_count": null,
   "metadata": {},
   "outputs": [],
   "source": [
    "# This line solves some minor problems when you do not have propery set the PYTHONPATH\n",
    "exec(compile(open(\"fix_paths.py\", \"rb\").read(), \"fix_paths.py\", 'exec'))\n",
    "\n",
    "import settings\n",
    "import os\n",
    "import pandas as pd\n",
    "from common import dataset_loaders\n",
    "import numpy as np\n",
    "from keras.preprocessing.image import ImageDataGenerator\n",
    "from patch_generators.pos_and_negative_fix_size import LabelEncoding, data_generator\n",
    "\n",
    "experiment_name = 'vehicle_empty_resnet_v0'\n",
    "\n",
    "# We create the data structure we need\n",
    "experiment_folder_name = 'patches_single_size'\n",
    "os.system('mkdir -p %s/%s' % (settings.DATAMODEL_PATH, experiment_folder_name))\n",
    "os.system('mkdir -p %s/%s/models' % (settings.DATAMODEL_PATH, experiment_folder_name))\n",
    "os.system('mkdir -p %s/%s/logs' % (settings.DATAMODEL_PATH, experiment_folder_name))\n",
    "\n",
    "OUTPUT_MODEL = '%s/%s/models/vehicle_empty_discriminator.hdf5' % (settings.DATAMODEL_PATH, experiment_folder_name)\n",
    "LOGS_PATH    = '%s/%s/logs/%s' % (settings.DATAMODEL_PATH, experiment_folder_name, experiment_name)\n",
    "\n",
    "\n",
    "\n",
    "image_size_nn = 48\n",
    "num_valid_cases = 60\n",
    "patch_size = 110\n",
    "batch_size = 25\n",
    "big_batch_size, valid_batch_size = batch_size * 5, batch_size * 3\n",
    "\n",
    "restart_valid_train = True\n",
    "\n",
    "\n",
    "def load_labels(restart_valid_train):\n",
    "    # Generate consistent train and validation sets\n",
    "    ## Only do this if the train / validation has not been generated yet\n",
    "    original_labels = dataset_loaders.groundlabels_dataframe()\n",
    "    if restart_valid_train == True:\n",
    "        os.system('rm -f %s/%s/train_df.csv' % (settings.DATAMODEL_PATH, experiment_folder_name))\n",
    "        os.system('rm -f %s/%s/valid_df.csv' % (settings.DATAMODEL_PATH, experiment_folder_name))\n",
    "\n",
    "    if not os.path.exists('%s/%s/train_df.csv' % (settings.DATAMODEL_PATH, experiment_folder_name)) and not os.path.exists('%s/%s/valid_df.csv' % (settings.DATAMODEL_PATH, experiment_folder_name)):\n",
    "        cases = original_labels['image'].unique()\n",
    "        np.random.shuffle(cases)\n",
    "        train_data = original_labels[original_labels.image.isin(cases[num_valid_cases:])]\n",
    "        valid_data = original_labels[~original_labels.image.isin(cases[num_valid_cases:])]\n",
    "\n",
    "        train_data.to_csv('%s/%s/train_df.csv' % (settings.DATAMODEL_PATH, experiment_folder_name), index = False)\n",
    "        valid_data.to_csv('%s/%s/valid_df.csv' % (settings.DATAMODEL_PATH, experiment_folder_name), index = False)\n",
    "    train_data = pd.read_csv('%s/%s/train_df.csv' % (settings.DATAMODEL_PATH, experiment_folder_name))\n",
    "    valid_data = pd.read_csv('%s/%s/valid_df.csv' % (settings.DATAMODEL_PATH, experiment_folder_name))\n",
    "    return original_labels, train_data, valid_data\n",
    "\n",
    "original_labels, train_data, valid_data = load_labels(restart_valid_train)\n",
    "\n",
    "# Initialize these cases\n",
    "## We add background as label to the rest of existing labels\n",
    "existing_labels = np.concatenate([original_labels['class'].unique(), ['background']])\n",
    "labelencoder = LabelEncoding(existing_labels)\n",
    "data_augmentation = ImageDataGenerator(vertical_flip=True, horizontal_flip = True, zoom_range = 0.02, rotation_range=180)\n",
    "\n",
    "train_generator = data_generator(data_augmentation, labelencoder, train_data, batch_size=big_batch_size, min_buffer_before_start = 400, patch_size=patch_size, image_size_nn=image_size_nn)\n",
    "valid_generator = data_generator(None, labelencoder, valid_data, batch_size=valid_batch_size,  min_buffer_before_start = 100, patch_size=patch_size, image_size_nn=image_size_nn)\n"
   ]
  },
  {
   "cell_type": "code",
   "execution_count": null,
   "metadata": {},
   "outputs": [],
   "source": [
    "for x,y in train_generator:\n",
    "    print(x.shape)"
   ]
  },
  {
   "cell_type": "code",
   "execution_count": null,
   "metadata": {},
   "outputs": [],
   "source": [
    "for x,y in valid_generator:\n",
    "    print(x.shape)"
   ]
  },
  {
   "cell_type": "code",
   "execution_count": null,
   "metadata": {
    "collapsed": true
   },
   "outputs": [],
   "source": []
  }
 ],
 "metadata": {
  "kernelspec": {
   "display_name": "Virtulenv_Python_3",
   "language": "python",
   "name": "virtulenv_python_3"
  },
  "language_info": {
   "codemirror_mode": {
    "name": "ipython",
    "version": 3
   },
   "file_extension": ".py",
   "mimetype": "text/x-python",
   "name": "python",
   "nbconvert_exporter": "python",
   "pygments_lexer": "ipython3",
   "version": "3.6.1"
  }
 },
 "nbformat": 4,
 "nbformat_minor": 2
}
