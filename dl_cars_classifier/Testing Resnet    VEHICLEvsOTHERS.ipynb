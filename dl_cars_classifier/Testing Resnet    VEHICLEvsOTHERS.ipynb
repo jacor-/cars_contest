{
 "cells": [
  {
   "cell_type": "markdown",
   "metadata": {},
   "source": [
    "### Imports"
   ]
  },
  {
   "cell_type": "code",
   "execution_count": 63,
   "metadata": {
    "collapsed": false
   },
   "outputs": [],
   "source": [
    "from pylab import *\n",
    "%matplotlib inline\n",
    "rcParams['figure.figsize'] = (15.0, 30.0)"
   ]
  },
  {
   "cell_type": "markdown",
   "metadata": {},
   "source": [
    "* Prepare paths"
   ]
  },
  {
   "cell_type": "code",
   "execution_count": 64,
   "metadata": {
    "collapsed": false
   },
   "outputs": [],
   "source": [
    "import sys\n",
    "sys.path.append('..')"
   ]
  },
  {
   "cell_type": "markdown",
   "metadata": {},
   "source": [
    "\n",
    "### General data structures"
   ]
  },
  {
   "cell_type": "markdown",
   "metadata": {},
   "source": [
    "* Preload data"
   ]
  },
  {
   "cell_type": "code",
   "execution_count": 65,
   "metadata": {
    "collapsed": false
   },
   "outputs": [],
   "source": [
    "from dataset import get_positive_patches, get_negative_patches, get_labels, load_image\n",
    "from common import dataset, utils\n",
    "import numpy as np\n",
    "import pandas as pd\n",
    "\n",
    "labels_data, data = dataset.labels_data, dataset.data\n",
    "\n",
    "\n",
    "## This one contains separatedly cars, vans...\n",
    "#vehicle_types = set(dataset.map_category.values())\n",
    "#vehicle_types.add('Empty')\n",
    "\n",
    "map_category = {'A':'Vehicle', 'B':'Vehicle', 'C':'Vehicle', 'D':'Vehicle', 'E':'Vehicle', 'F':'Vehicle', 'G':'Vehicle', 'H':'Vehicle', 'I':'Vehicle'}\n",
    "labels_data = pd.read_csv('../data/trainingObservations.csv')\n",
    "data = get_labels(labels_data, map_category)\n",
    "vehicle_types = set(map_category.values())"
   ]
  },
  {
   "cell_type": "markdown",
   "metadata": {},
   "source": [
    "* Split train and test"
   ]
  },
  {
   "cell_type": "code",
   "execution_count": 66,
   "metadata": {
    "collapsed": false
   },
   "outputs": [],
   "source": [
    "#test_images = 60\n",
    "#cases = list(data.keys())\n",
    "#np.random.shuffle(cases)\n",
    "#train_cases, test_cases = cases[test_images:], cases[:test_images]\n",
    "#np.save('../data/patch_images/train_cases', train_cases.npy)\n",
    "#np.save('../data/patch_images/test_cases', test_cases.npy)\n",
    "train_cases = np.load('../data/patch_images/train_cases.npy')\n",
    "test_cases  = np.load('../data/patch_images/test_cases.npy')"
   ]
  },
  {
   "cell_type": "markdown",
   "metadata": {},
   "source": [
    "### Prepare the dataset and the generator"
   ]
  },
  {
   "cell_type": "markdown",
   "metadata": {},
   "source": [
    "Save positive and negative images in different folders"
   ]
  },
  {
   "cell_type": "code",
   "execution_count": 68,
   "metadata": {
    "collapsed": false
   },
   "outputs": [],
   "source": [
    "import scipy.misc\n",
    "import os\n",
    "\n",
    "for traintest_case in (['test']):#(['train','test']):    \n",
    "    number_of_negative_per_image = 50\n",
    "\n",
    "    ## Delete all the folders\n",
    "    for key in list(vehicle_types):\n",
    "        os.system('rm -rf ../data/patch_images/%s/%s || True' % (traintest_case, key))\n",
    "\n",
    "    # Create new folders\n",
    "    for key in list(vehicle_types):\n",
    "        os.system('mkdir ../data/patch_images/%s/%s || True' % (traintest_case, key))\n",
    "\n",
    "    # Generate positive samples and save them in the proper folder\n",
    "    if traintest_case == 'train':\n",
    "        files = train_cases\n",
    "    elif traintest_case == 'test':\n",
    "        files = test_cases\n",
    "    else:\n",
    "        raise 'Inutil! Train o test!'\n",
    "        \n",
    "    for case in files:\n",
    "        for key in list(vehicle_types):\n",
    "            pos = get_positive_patches(dataset.load_image(case), data[case], 110, [key])    \n",
    "            for j in range(pos.shape[0]):\n",
    "                scipy.misc.imsave('../data/patch_images/%s/%s/%s_%d.jpg' % (traintest_case,key,case,j), pos[j])\n",
    "\n",
    "    # Generate negative samples and save them in the proper folder\n",
    "    os.system('rm -rf ../data/patch_images/%s/Empty' % traintest_case)\n",
    "    os.system('mkdir ../data/patch_images/%s/Empty' % traintest_case)\n",
    "    for case in train_cases:\n",
    "        pos = get_negative_patches(dataset.load_image(case), data[case], 110, number_of_negative_per_image)\n",
    "        for j in range(pos.shape[0]):\n",
    "            scipy.misc.imsave('../data/patch_images/%s/%s/%s_%d.jpg' % (traintest_case,'Empty',case,j), pos[j])\n",
    "\n",
    "vehicle_types.add('Empty')"
   ]
  },
  {
   "cell_type": "markdown",
   "metadata": {},
   "source": [
    "Test the generator"
   ]
  },
  {
   "cell_type": "code",
   "execution_count": 7,
   "metadata": {
    "collapsed": true
   },
   "outputs": [],
   "source": [
    "vehicle_types.add('Empty')"
   ]
  },
  {
   "cell_type": "code",
   "execution_count": 71,
   "metadata": {
    "collapsed": false
   },
   "outputs": [
    {
     "name": "stdout",
     "output_type": "stream",
     "text": [
      "generator_ready\n"
     ]
    }
   ],
   "source": [
    "from keras.preprocessing.image import ImageDataGenerator\n",
    "from keras import backend as K\n",
    "K.set_image_dim_ordering('th')\n",
    "\n",
    "def generate_training_cases(batch_size, case):\n",
    "    if case not in ('train','test'):\n",
    "        raise \"Only train o test\"\n",
    "    datagen = ImageDataGenerator(rescale=1./255, vertical_flip=True, horizontal_flip = True, zoom_range = 0.02, rotation_range=180)\n",
    "    a = 0\n",
    "    for X_batch, y_batch in datagen.flow_from_directory('../data/patch_images/%s'%case, target_size = [110,110], class_mode = 'binary', classes = vehicle_types, batch_size=batch_size):\n",
    "        yield X_batch, y_batch\n",
    "        \n",
    "#a = 0\n",
    "#for X_batch, y_batch in generate_training_cases(32):\n",
    "#    #utils.multiplot(X_batch.transpose([0,2,3,1]), [10,5])\n",
    "#    print(y_batch.sum(axis = 0))\n",
    "#    a+=1\n",
    "#    if a == 10:\n",
    "#        break\n",
    "\n",
    "train_generator = generate_training_cases(32, 'train')\n",
    "test_generator = generate_training_cases(32, 'test')\n",
    "print('generator_ready')"
   ]
  },
  {
   "cell_type": "markdown",
   "metadata": {
    "collapsed": false,
    "scrolled": false
   },
   "source": [
    "### Train a resnet50"
   ]
  },
  {
   "cell_type": "code",
   "execution_count": null,
   "metadata": {
    "collapsed": false
   },
   "outputs": [
    {
     "name": "stdout",
     "output_type": "stream",
     "text": [
      "INFO:tensorflow:Summary name convolution2d_41_W:0 is illegal; using convolution2d_41_W_0 instead.\n"
     ]
    },
    {
     "name": "stderr",
     "output_type": "stream",
     "text": [
      "INFO:tensorflow:Summary name convolution2d_41_W:0 is illegal; using convolution2d_41_W_0 instead.\n"
     ]
    },
    {
     "name": "stdout",
     "output_type": "stream",
     "text": [
      "INFO:tensorflow:Summary name convolution2d_41_b:0 is illegal; using convolution2d_41_b_0 instead.\n"
     ]
    },
    {
     "name": "stderr",
     "output_type": "stream",
     "text": [
      "INFO:tensorflow:Summary name convolution2d_41_b:0 is illegal; using convolution2d_41_b_0 instead.\n"
     ]
    },
    {
     "name": "stdout",
     "output_type": "stream",
     "text": [
      "INFO:tensorflow:Summary name batchnormalization_37_gamma:0 is illegal; using batchnormalization_37_gamma_0 instead.\n"
     ]
    },
    {
     "name": "stderr",
     "output_type": "stream",
     "text": [
      "INFO:tensorflow:Summary name batchnormalization_37_gamma:0 is illegal; using batchnormalization_37_gamma_0 instead.\n"
     ]
    },
    {
     "name": "stdout",
     "output_type": "stream",
     "text": [
      "INFO:tensorflow:Summary name batchnormalization_37_beta:0 is illegal; using batchnormalization_37_beta_0 instead.\n"
     ]
    },
    {
     "name": "stderr",
     "output_type": "stream",
     "text": [
      "INFO:tensorflow:Summary name batchnormalization_37_beta:0 is illegal; using batchnormalization_37_beta_0 instead.\n"
     ]
    },
    {
     "name": "stdout",
     "output_type": "stream",
     "text": [
      "INFO:tensorflow:Summary name batchnormalization_37_running_mean:0 is illegal; using batchnormalization_37_running_mean_0 instead.\n"
     ]
    },
    {
     "name": "stderr",
     "output_type": "stream",
     "text": [
      "INFO:tensorflow:Summary name batchnormalization_37_running_mean:0 is illegal; using batchnormalization_37_running_mean_0 instead.\n"
     ]
    },
    {
     "name": "stdout",
     "output_type": "stream",
     "text": [
      "INFO:tensorflow:Summary name batchnormalization_37_running_std:0 is illegal; using batchnormalization_37_running_std_0 instead.\n"
     ]
    },
    {
     "name": "stderr",
     "output_type": "stream",
     "text": [
      "INFO:tensorflow:Summary name batchnormalization_37_running_std:0 is illegal; using batchnormalization_37_running_std_0 instead.\n"
     ]
    },
    {
     "name": "stdout",
     "output_type": "stream",
     "text": [
      "INFO:tensorflow:Summary name convolution2d_42_W:0 is illegal; using convolution2d_42_W_0 instead.\n"
     ]
    },
    {
     "name": "stderr",
     "output_type": "stream",
     "text": [
      "INFO:tensorflow:Summary name convolution2d_42_W:0 is illegal; using convolution2d_42_W_0 instead.\n"
     ]
    },
    {
     "name": "stdout",
     "output_type": "stream",
     "text": [
      "INFO:tensorflow:Summary name convolution2d_42_b:0 is illegal; using convolution2d_42_b_0 instead.\n"
     ]
    },
    {
     "name": "stderr",
     "output_type": "stream",
     "text": [
      "INFO:tensorflow:Summary name convolution2d_42_b:0 is illegal; using convolution2d_42_b_0 instead.\n"
     ]
    },
    {
     "name": "stdout",
     "output_type": "stream",
     "text": [
      "INFO:tensorflow:Summary name batchnormalization_38_gamma:0 is illegal; using batchnormalization_38_gamma_0 instead.\n"
     ]
    },
    {
     "name": "stderr",
     "output_type": "stream",
     "text": [
      "INFO:tensorflow:Summary name batchnormalization_38_gamma:0 is illegal; using batchnormalization_38_gamma_0 instead.\n"
     ]
    },
    {
     "name": "stdout",
     "output_type": "stream",
     "text": [
      "INFO:tensorflow:Summary name batchnormalization_38_beta:0 is illegal; using batchnormalization_38_beta_0 instead.\n"
     ]
    },
    {
     "name": "stderr",
     "output_type": "stream",
     "text": [
      "INFO:tensorflow:Summary name batchnormalization_38_beta:0 is illegal; using batchnormalization_38_beta_0 instead.\n"
     ]
    },
    {
     "name": "stdout",
     "output_type": "stream",
     "text": [
      "INFO:tensorflow:Summary name batchnormalization_38_running_mean:0 is illegal; using batchnormalization_38_running_mean_0 instead.\n"
     ]
    },
    {
     "name": "stderr",
     "output_type": "stream",
     "text": [
      "INFO:tensorflow:Summary name batchnormalization_38_running_mean:0 is illegal; using batchnormalization_38_running_mean_0 instead.\n"
     ]
    },
    {
     "name": "stdout",
     "output_type": "stream",
     "text": [
      "INFO:tensorflow:Summary name batchnormalization_38_running_std:0 is illegal; using batchnormalization_38_running_std_0 instead.\n"
     ]
    },
    {
     "name": "stderr",
     "output_type": "stream",
     "text": [
      "INFO:tensorflow:Summary name batchnormalization_38_running_std:0 is illegal; using batchnormalization_38_running_std_0 instead.\n"
     ]
    },
    {
     "name": "stdout",
     "output_type": "stream",
     "text": [
      "INFO:tensorflow:Summary name convolution2d_43_W:0 is illegal; using convolution2d_43_W_0 instead.\n"
     ]
    },
    {
     "name": "stderr",
     "output_type": "stream",
     "text": [
      "INFO:tensorflow:Summary name convolution2d_43_W:0 is illegal; using convolution2d_43_W_0 instead.\n"
     ]
    },
    {
     "name": "stdout",
     "output_type": "stream",
     "text": [
      "INFO:tensorflow:Summary name convolution2d_43_b:0 is illegal; using convolution2d_43_b_0 instead.\n"
     ]
    },
    {
     "name": "stderr",
     "output_type": "stream",
     "text": [
      "INFO:tensorflow:Summary name convolution2d_43_b:0 is illegal; using convolution2d_43_b_0 instead.\n"
     ]
    },
    {
     "name": "stdout",
     "output_type": "stream",
     "text": [
      "INFO:tensorflow:Summary name batchnormalization_39_gamma:0 is illegal; using batchnormalization_39_gamma_0 instead.\n"
     ]
    },
    {
     "name": "stderr",
     "output_type": "stream",
     "text": [
      "INFO:tensorflow:Summary name batchnormalization_39_gamma:0 is illegal; using batchnormalization_39_gamma_0 instead.\n"
     ]
    },
    {
     "name": "stdout",
     "output_type": "stream",
     "text": [
      "INFO:tensorflow:Summary name batchnormalization_39_beta:0 is illegal; using batchnormalization_39_beta_0 instead.\n"
     ]
    },
    {
     "name": "stderr",
     "output_type": "stream",
     "text": [
      "INFO:tensorflow:Summary name batchnormalization_39_beta:0 is illegal; using batchnormalization_39_beta_0 instead.\n"
     ]
    },
    {
     "name": "stdout",
     "output_type": "stream",
     "text": [
      "INFO:tensorflow:Summary name batchnormalization_39_running_mean:0 is illegal; using batchnormalization_39_running_mean_0 instead.\n"
     ]
    },
    {
     "name": "stderr",
     "output_type": "stream",
     "text": [
      "INFO:tensorflow:Summary name batchnormalization_39_running_mean:0 is illegal; using batchnormalization_39_running_mean_0 instead.\n"
     ]
    },
    {
     "name": "stdout",
     "output_type": "stream",
     "text": [
      "INFO:tensorflow:Summary name batchnormalization_39_running_std:0 is illegal; using batchnormalization_39_running_std_0 instead.\n"
     ]
    },
    {
     "name": "stderr",
     "output_type": "stream",
     "text": [
      "INFO:tensorflow:Summary name batchnormalization_39_running_std:0 is illegal; using batchnormalization_39_running_std_0 instead.\n"
     ]
    },
    {
     "name": "stdout",
     "output_type": "stream",
     "text": [
      "INFO:tensorflow:Summary name convolution2d_44_W:0 is illegal; using convolution2d_44_W_0 instead.\n"
     ]
    },
    {
     "name": "stderr",
     "output_type": "stream",
     "text": [
      "INFO:tensorflow:Summary name convolution2d_44_W:0 is illegal; using convolution2d_44_W_0 instead.\n"
     ]
    },
    {
     "name": "stdout",
     "output_type": "stream",
     "text": [
      "INFO:tensorflow:Summary name convolution2d_44_b:0 is illegal; using convolution2d_44_b_0 instead.\n"
     ]
    },
    {
     "name": "stderr",
     "output_type": "stream",
     "text": [
      "INFO:tensorflow:Summary name convolution2d_44_b:0 is illegal; using convolution2d_44_b_0 instead.\n"
     ]
    },
    {
     "name": "stdout",
     "output_type": "stream",
     "text": [
      "INFO:tensorflow:Summary name batchnormalization_40_gamma:0 is illegal; using batchnormalization_40_gamma_0 instead.\n"
     ]
    },
    {
     "name": "stderr",
     "output_type": "stream",
     "text": [
      "INFO:tensorflow:Summary name batchnormalization_40_gamma:0 is illegal; using batchnormalization_40_gamma_0 instead.\n"
     ]
    },
    {
     "name": "stdout",
     "output_type": "stream",
     "text": [
      "INFO:tensorflow:Summary name batchnormalization_40_beta:0 is illegal; using batchnormalization_40_beta_0 instead.\n"
     ]
    },
    {
     "name": "stderr",
     "output_type": "stream",
     "text": [
      "INFO:tensorflow:Summary name batchnormalization_40_beta:0 is illegal; using batchnormalization_40_beta_0 instead.\n"
     ]
    },
    {
     "name": "stdout",
     "output_type": "stream",
     "text": [
      "INFO:tensorflow:Summary name batchnormalization_40_running_mean:0 is illegal; using batchnormalization_40_running_mean_0 instead.\n"
     ]
    },
    {
     "name": "stderr",
     "output_type": "stream",
     "text": [
      "INFO:tensorflow:Summary name batchnormalization_40_running_mean:0 is illegal; using batchnormalization_40_running_mean_0 instead.\n"
     ]
    },
    {
     "name": "stdout",
     "output_type": "stream",
     "text": [
      "INFO:tensorflow:Summary name batchnormalization_40_running_std:0 is illegal; using batchnormalization_40_running_std_0 instead.\n"
     ]
    },
    {
     "name": "stderr",
     "output_type": "stream",
     "text": [
      "INFO:tensorflow:Summary name batchnormalization_40_running_std:0 is illegal; using batchnormalization_40_running_std_0 instead.\n"
     ]
    },
    {
     "name": "stdout",
     "output_type": "stream",
     "text": [
      "INFO:tensorflow:Summary name convolution2d_45_W:0 is illegal; using convolution2d_45_W_0 instead.\n"
     ]
    },
    {
     "name": "stderr",
     "output_type": "stream",
     "text": [
      "INFO:tensorflow:Summary name convolution2d_45_W:0 is illegal; using convolution2d_45_W_0 instead.\n"
     ]
    },
    {
     "name": "stdout",
     "output_type": "stream",
     "text": [
      "INFO:tensorflow:Summary name convolution2d_45_b:0 is illegal; using convolution2d_45_b_0 instead.\n"
     ]
    },
    {
     "name": "stderr",
     "output_type": "stream",
     "text": [
      "INFO:tensorflow:Summary name convolution2d_45_b:0 is illegal; using convolution2d_45_b_0 instead.\n"
     ]
    },
    {
     "name": "stdout",
     "output_type": "stream",
     "text": [
      "INFO:tensorflow:Summary name batchnormalization_41_gamma:0 is illegal; using batchnormalization_41_gamma_0 instead.\n"
     ]
    },
    {
     "name": "stderr",
     "output_type": "stream",
     "text": [
      "INFO:tensorflow:Summary name batchnormalization_41_gamma:0 is illegal; using batchnormalization_41_gamma_0 instead.\n"
     ]
    },
    {
     "name": "stdout",
     "output_type": "stream",
     "text": [
      "INFO:tensorflow:Summary name batchnormalization_41_beta:0 is illegal; using batchnormalization_41_beta_0 instead.\n"
     ]
    },
    {
     "name": "stderr",
     "output_type": "stream",
     "text": [
      "INFO:tensorflow:Summary name batchnormalization_41_beta:0 is illegal; using batchnormalization_41_beta_0 instead.\n"
     ]
    },
    {
     "name": "stdout",
     "output_type": "stream",
     "text": [
      "INFO:tensorflow:Summary name batchnormalization_41_running_mean:0 is illegal; using batchnormalization_41_running_mean_0 instead.\n"
     ]
    },
    {
     "name": "stderr",
     "output_type": "stream",
     "text": [
      "INFO:tensorflow:Summary name batchnormalization_41_running_mean:0 is illegal; using batchnormalization_41_running_mean_0 instead.\n"
     ]
    },
    {
     "name": "stdout",
     "output_type": "stream",
     "text": [
      "INFO:tensorflow:Summary name batchnormalization_41_running_std:0 is illegal; using batchnormalization_41_running_std_0 instead.\n"
     ]
    },
    {
     "name": "stderr",
     "output_type": "stream",
     "text": [
      "INFO:tensorflow:Summary name batchnormalization_41_running_std:0 is illegal; using batchnormalization_41_running_std_0 instead.\n"
     ]
    },
    {
     "name": "stdout",
     "output_type": "stream",
     "text": [
      "INFO:tensorflow:Summary name convolution2d_46_W:0 is illegal; using convolution2d_46_W_0 instead.\n"
     ]
    },
    {
     "name": "stderr",
     "output_type": "stream",
     "text": [
      "INFO:tensorflow:Summary name convolution2d_46_W:0 is illegal; using convolution2d_46_W_0 instead.\n"
     ]
    },
    {
     "name": "stdout",
     "output_type": "stream",
     "text": [
      "INFO:tensorflow:Summary name convolution2d_46_b:0 is illegal; using convolution2d_46_b_0 instead.\n"
     ]
    },
    {
     "name": "stderr",
     "output_type": "stream",
     "text": [
      "INFO:tensorflow:Summary name convolution2d_46_b:0 is illegal; using convolution2d_46_b_0 instead.\n"
     ]
    },
    {
     "name": "stdout",
     "output_type": "stream",
     "text": [
      "INFO:tensorflow:Summary name batchnormalization_42_gamma:0 is illegal; using batchnormalization_42_gamma_0 instead.\n"
     ]
    },
    {
     "name": "stderr",
     "output_type": "stream",
     "text": [
      "INFO:tensorflow:Summary name batchnormalization_42_gamma:0 is illegal; using batchnormalization_42_gamma_0 instead.\n"
     ]
    },
    {
     "name": "stdout",
     "output_type": "stream",
     "text": [
      "INFO:tensorflow:Summary name batchnormalization_42_beta:0 is illegal; using batchnormalization_42_beta_0 instead.\n"
     ]
    },
    {
     "name": "stderr",
     "output_type": "stream",
     "text": [
      "INFO:tensorflow:Summary name batchnormalization_42_beta:0 is illegal; using batchnormalization_42_beta_0 instead.\n"
     ]
    },
    {
     "name": "stdout",
     "output_type": "stream",
     "text": [
      "INFO:tensorflow:Summary name batchnormalization_42_running_mean:0 is illegal; using batchnormalization_42_running_mean_0 instead.\n"
     ]
    },
    {
     "name": "stderr",
     "output_type": "stream",
     "text": [
      "INFO:tensorflow:Summary name batchnormalization_42_running_mean:0 is illegal; using batchnormalization_42_running_mean_0 instead.\n"
     ]
    },
    {
     "name": "stdout",
     "output_type": "stream",
     "text": [
      "INFO:tensorflow:Summary name batchnormalization_42_running_std:0 is illegal; using batchnormalization_42_running_std_0 instead.\n"
     ]
    },
    {
     "name": "stderr",
     "output_type": "stream",
     "text": [
      "INFO:tensorflow:Summary name batchnormalization_42_running_std:0 is illegal; using batchnormalization_42_running_std_0 instead.\n"
     ]
    },
    {
     "name": "stdout",
     "output_type": "stream",
     "text": [
      "INFO:tensorflow:Summary name convolution2d_48_W:0 is illegal; using convolution2d_48_W_0 instead.\n"
     ]
    },
    {
     "name": "stderr",
     "output_type": "stream",
     "text": [
      "INFO:tensorflow:Summary name convolution2d_48_W:0 is illegal; using convolution2d_48_W_0 instead.\n"
     ]
    },
    {
     "name": "stdout",
     "output_type": "stream",
     "text": [
      "INFO:tensorflow:Summary name convolution2d_48_b:0 is illegal; using convolution2d_48_b_0 instead.\n"
     ]
    },
    {
     "name": "stderr",
     "output_type": "stream",
     "text": [
      "INFO:tensorflow:Summary name convolution2d_48_b:0 is illegal; using convolution2d_48_b_0 instead.\n"
     ]
    },
    {
     "name": "stdout",
     "output_type": "stream",
     "text": [
      "INFO:tensorflow:Summary name convolution2d_47_W:0 is illegal; using convolution2d_47_W_0 instead.\n"
     ]
    },
    {
     "name": "stderr",
     "output_type": "stream",
     "text": [
      "INFO:tensorflow:Summary name convolution2d_47_W:0 is illegal; using convolution2d_47_W_0 instead.\n"
     ]
    },
    {
     "name": "stdout",
     "output_type": "stream",
     "text": [
      "INFO:tensorflow:Summary name convolution2d_47_b:0 is illegal; using convolution2d_47_b_0 instead.\n"
     ]
    },
    {
     "name": "stderr",
     "output_type": "stream",
     "text": [
      "INFO:tensorflow:Summary name convolution2d_47_b:0 is illegal; using convolution2d_47_b_0 instead.\n"
     ]
    },
    {
     "name": "stdout",
     "output_type": "stream",
     "text": [
      "INFO:tensorflow:Summary name batchnormalization_43_gamma:0 is illegal; using batchnormalization_43_gamma_0 instead.\n"
     ]
    },
    {
     "name": "stderr",
     "output_type": "stream",
     "text": [
      "INFO:tensorflow:Summary name batchnormalization_43_gamma:0 is illegal; using batchnormalization_43_gamma_0 instead.\n"
     ]
    },
    {
     "name": "stdout",
     "output_type": "stream",
     "text": [
      "INFO:tensorflow:Summary name batchnormalization_43_beta:0 is illegal; using batchnormalization_43_beta_0 instead.\n"
     ]
    },
    {
     "name": "stderr",
     "output_type": "stream",
     "text": [
      "INFO:tensorflow:Summary name batchnormalization_43_beta:0 is illegal; using batchnormalization_43_beta_0 instead.\n"
     ]
    },
    {
     "name": "stdout",
     "output_type": "stream",
     "text": [
      "INFO:tensorflow:Summary name batchnormalization_43_running_mean:0 is illegal; using batchnormalization_43_running_mean_0 instead.\n"
     ]
    },
    {
     "name": "stderr",
     "output_type": "stream",
     "text": [
      "INFO:tensorflow:Summary name batchnormalization_43_running_mean:0 is illegal; using batchnormalization_43_running_mean_0 instead.\n"
     ]
    },
    {
     "name": "stdout",
     "output_type": "stream",
     "text": [
      "INFO:tensorflow:Summary name batchnormalization_43_running_std:0 is illegal; using batchnormalization_43_running_std_0 instead.\n"
     ]
    },
    {
     "name": "stderr",
     "output_type": "stream",
     "text": [
      "INFO:tensorflow:Summary name batchnormalization_43_running_std:0 is illegal; using batchnormalization_43_running_std_0 instead.\n"
     ]
    },
    {
     "name": "stdout",
     "output_type": "stream",
     "text": [
      "INFO:tensorflow:Summary name convolution2d_49_W:0 is illegal; using convolution2d_49_W_0 instead.\n"
     ]
    },
    {
     "name": "stderr",
     "output_type": "stream",
     "text": [
      "INFO:tensorflow:Summary name convolution2d_49_W:0 is illegal; using convolution2d_49_W_0 instead.\n"
     ]
    },
    {
     "name": "stdout",
     "output_type": "stream",
     "text": [
      "INFO:tensorflow:Summary name convolution2d_49_b:0 is illegal; using convolution2d_49_b_0 instead.\n"
     ]
    },
    {
     "name": "stderr",
     "output_type": "stream",
     "text": [
      "INFO:tensorflow:Summary name convolution2d_49_b:0 is illegal; using convolution2d_49_b_0 instead.\n"
     ]
    },
    {
     "name": "stdout",
     "output_type": "stream",
     "text": [
      "INFO:tensorflow:Summary name batchnormalization_44_gamma:0 is illegal; using batchnormalization_44_gamma_0 instead.\n"
     ]
    },
    {
     "name": "stderr",
     "output_type": "stream",
     "text": [
      "INFO:tensorflow:Summary name batchnormalization_44_gamma:0 is illegal; using batchnormalization_44_gamma_0 instead.\n"
     ]
    },
    {
     "name": "stdout",
     "output_type": "stream",
     "text": [
      "INFO:tensorflow:Summary name batchnormalization_44_beta:0 is illegal; using batchnormalization_44_beta_0 instead.\n"
     ]
    },
    {
     "name": "stderr",
     "output_type": "stream",
     "text": [
      "INFO:tensorflow:Summary name batchnormalization_44_beta:0 is illegal; using batchnormalization_44_beta_0 instead.\n"
     ]
    },
    {
     "name": "stdout",
     "output_type": "stream",
     "text": [
      "INFO:tensorflow:Summary name batchnormalization_44_running_mean:0 is illegal; using batchnormalization_44_running_mean_0 instead.\n"
     ]
    },
    {
     "name": "stderr",
     "output_type": "stream",
     "text": [
      "INFO:tensorflow:Summary name batchnormalization_44_running_mean:0 is illegal; using batchnormalization_44_running_mean_0 instead.\n"
     ]
    },
    {
     "name": "stdout",
     "output_type": "stream",
     "text": [
      "INFO:tensorflow:Summary name batchnormalization_44_running_std:0 is illegal; using batchnormalization_44_running_std_0 instead.\n"
     ]
    },
    {
     "name": "stderr",
     "output_type": "stream",
     "text": [
      "INFO:tensorflow:Summary name batchnormalization_44_running_std:0 is illegal; using batchnormalization_44_running_std_0 instead.\n"
     ]
    },
    {
     "name": "stdout",
     "output_type": "stream",
     "text": [
      "INFO:tensorflow:Summary name convolution2d_50_W:0 is illegal; using convolution2d_50_W_0 instead.\n"
     ]
    },
    {
     "name": "stderr",
     "output_type": "stream",
     "text": [
      "INFO:tensorflow:Summary name convolution2d_50_W:0 is illegal; using convolution2d_50_W_0 instead.\n"
     ]
    },
    {
     "name": "stdout",
     "output_type": "stream",
     "text": [
      "INFO:tensorflow:Summary name convolution2d_50_b:0 is illegal; using convolution2d_50_b_0 instead.\n"
     ]
    },
    {
     "name": "stderr",
     "output_type": "stream",
     "text": [
      "INFO:tensorflow:Summary name convolution2d_50_b:0 is illegal; using convolution2d_50_b_0 instead.\n"
     ]
    },
    {
     "name": "stdout",
     "output_type": "stream",
     "text": [
      "INFO:tensorflow:Summary name batchnormalization_45_gamma:0 is illegal; using batchnormalization_45_gamma_0 instead.\n"
     ]
    },
    {
     "name": "stderr",
     "output_type": "stream",
     "text": [
      "INFO:tensorflow:Summary name batchnormalization_45_gamma:0 is illegal; using batchnormalization_45_gamma_0 instead.\n"
     ]
    },
    {
     "name": "stdout",
     "output_type": "stream",
     "text": [
      "INFO:tensorflow:Summary name batchnormalization_45_beta:0 is illegal; using batchnormalization_45_beta_0 instead.\n"
     ]
    },
    {
     "name": "stderr",
     "output_type": "stream",
     "text": [
      "INFO:tensorflow:Summary name batchnormalization_45_beta:0 is illegal; using batchnormalization_45_beta_0 instead.\n"
     ]
    },
    {
     "name": "stdout",
     "output_type": "stream",
     "text": [
      "INFO:tensorflow:Summary name batchnormalization_45_running_mean:0 is illegal; using batchnormalization_45_running_mean_0 instead.\n"
     ]
    },
    {
     "name": "stderr",
     "output_type": "stream",
     "text": [
      "INFO:tensorflow:Summary name batchnormalization_45_running_mean:0 is illegal; using batchnormalization_45_running_mean_0 instead.\n"
     ]
    },
    {
     "name": "stdout",
     "output_type": "stream",
     "text": [
      "INFO:tensorflow:Summary name batchnormalization_45_running_std:0 is illegal; using batchnormalization_45_running_std_0 instead.\n"
     ]
    },
    {
     "name": "stderr",
     "output_type": "stream",
     "text": [
      "INFO:tensorflow:Summary name batchnormalization_45_running_std:0 is illegal; using batchnormalization_45_running_std_0 instead.\n"
     ]
    },
    {
     "name": "stdout",
     "output_type": "stream",
     "text": [
      "INFO:tensorflow:Summary name convolution2d_51_W:0 is illegal; using convolution2d_51_W_0 instead.\n"
     ]
    },
    {
     "name": "stderr",
     "output_type": "stream",
     "text": [
      "INFO:tensorflow:Summary name convolution2d_51_W:0 is illegal; using convolution2d_51_W_0 instead.\n"
     ]
    },
    {
     "name": "stdout",
     "output_type": "stream",
     "text": [
      "INFO:tensorflow:Summary name convolution2d_51_b:0 is illegal; using convolution2d_51_b_0 instead.\n"
     ]
    },
    {
     "name": "stderr",
     "output_type": "stream",
     "text": [
      "INFO:tensorflow:Summary name convolution2d_51_b:0 is illegal; using convolution2d_51_b_0 instead.\n"
     ]
    },
    {
     "name": "stdout",
     "output_type": "stream",
     "text": [
      "INFO:tensorflow:Summary name batchnormalization_46_gamma:0 is illegal; using batchnormalization_46_gamma_0 instead.\n"
     ]
    },
    {
     "name": "stderr",
     "output_type": "stream",
     "text": [
      "INFO:tensorflow:Summary name batchnormalization_46_gamma:0 is illegal; using batchnormalization_46_gamma_0 instead.\n"
     ]
    },
    {
     "name": "stdout",
     "output_type": "stream",
     "text": [
      "INFO:tensorflow:Summary name batchnormalization_46_beta:0 is illegal; using batchnormalization_46_beta_0 instead.\n"
     ]
    },
    {
     "name": "stderr",
     "output_type": "stream",
     "text": [
      "INFO:tensorflow:Summary name batchnormalization_46_beta:0 is illegal; using batchnormalization_46_beta_0 instead.\n"
     ]
    },
    {
     "name": "stdout",
     "output_type": "stream",
     "text": [
      "INFO:tensorflow:Summary name batchnormalization_46_running_mean:0 is illegal; using batchnormalization_46_running_mean_0 instead.\n"
     ]
    },
    {
     "name": "stderr",
     "output_type": "stream",
     "text": [
      "INFO:tensorflow:Summary name batchnormalization_46_running_mean:0 is illegal; using batchnormalization_46_running_mean_0 instead.\n"
     ]
    },
    {
     "name": "stdout",
     "output_type": "stream",
     "text": [
      "INFO:tensorflow:Summary name batchnormalization_46_running_std:0 is illegal; using batchnormalization_46_running_std_0 instead.\n"
     ]
    },
    {
     "name": "stderr",
     "output_type": "stream",
     "text": [
      "INFO:tensorflow:Summary name batchnormalization_46_running_std:0 is illegal; using batchnormalization_46_running_std_0 instead.\n"
     ]
    },
    {
     "name": "stdout",
     "output_type": "stream",
     "text": [
      "INFO:tensorflow:Summary name convolution2d_53_W:0 is illegal; using convolution2d_53_W_0 instead.\n"
     ]
    },
    {
     "name": "stderr",
     "output_type": "stream",
     "text": [
      "INFO:tensorflow:Summary name convolution2d_53_W:0 is illegal; using convolution2d_53_W_0 instead.\n"
     ]
    },
    {
     "name": "stdout",
     "output_type": "stream",
     "text": [
      "INFO:tensorflow:Summary name convolution2d_53_b:0 is illegal; using convolution2d_53_b_0 instead.\n"
     ]
    },
    {
     "name": "stderr",
     "output_type": "stream",
     "text": [
      "INFO:tensorflow:Summary name convolution2d_53_b:0 is illegal; using convolution2d_53_b_0 instead.\n"
     ]
    },
    {
     "name": "stdout",
     "output_type": "stream",
     "text": [
      "INFO:tensorflow:Summary name convolution2d_52_W:0 is illegal; using convolution2d_52_W_0 instead.\n"
     ]
    },
    {
     "name": "stderr",
     "output_type": "stream",
     "text": [
      "INFO:tensorflow:Summary name convolution2d_52_W:0 is illegal; using convolution2d_52_W_0 instead.\n"
     ]
    },
    {
     "name": "stdout",
     "output_type": "stream",
     "text": [
      "INFO:tensorflow:Summary name convolution2d_52_b:0 is illegal; using convolution2d_52_b_0 instead.\n"
     ]
    },
    {
     "name": "stderr",
     "output_type": "stream",
     "text": [
      "INFO:tensorflow:Summary name convolution2d_52_b:0 is illegal; using convolution2d_52_b_0 instead.\n"
     ]
    },
    {
     "name": "stdout",
     "output_type": "stream",
     "text": [
      "INFO:tensorflow:Summary name batchnormalization_47_gamma:0 is illegal; using batchnormalization_47_gamma_0 instead.\n"
     ]
    },
    {
     "name": "stderr",
     "output_type": "stream",
     "text": [
      "INFO:tensorflow:Summary name batchnormalization_47_gamma:0 is illegal; using batchnormalization_47_gamma_0 instead.\n"
     ]
    },
    {
     "name": "stdout",
     "output_type": "stream",
     "text": [
      "INFO:tensorflow:Summary name batchnormalization_47_beta:0 is illegal; using batchnormalization_47_beta_0 instead.\n"
     ]
    },
    {
     "name": "stderr",
     "output_type": "stream",
     "text": [
      "INFO:tensorflow:Summary name batchnormalization_47_beta:0 is illegal; using batchnormalization_47_beta_0 instead.\n"
     ]
    },
    {
     "name": "stdout",
     "output_type": "stream",
     "text": [
      "INFO:tensorflow:Summary name batchnormalization_47_running_mean:0 is illegal; using batchnormalization_47_running_mean_0 instead.\n"
     ]
    },
    {
     "name": "stderr",
     "output_type": "stream",
     "text": [
      "INFO:tensorflow:Summary name batchnormalization_47_running_mean:0 is illegal; using batchnormalization_47_running_mean_0 instead.\n"
     ]
    },
    {
     "name": "stdout",
     "output_type": "stream",
     "text": [
      "INFO:tensorflow:Summary name batchnormalization_47_running_std:0 is illegal; using batchnormalization_47_running_std_0 instead.\n"
     ]
    },
    {
     "name": "stderr",
     "output_type": "stream",
     "text": [
      "INFO:tensorflow:Summary name batchnormalization_47_running_std:0 is illegal; using batchnormalization_47_running_std_0 instead.\n"
     ]
    },
    {
     "name": "stdout",
     "output_type": "stream",
     "text": [
      "INFO:tensorflow:Summary name convolution2d_54_W:0 is illegal; using convolution2d_54_W_0 instead.\n"
     ]
    },
    {
     "name": "stderr",
     "output_type": "stream",
     "text": [
      "INFO:tensorflow:Summary name convolution2d_54_W:0 is illegal; using convolution2d_54_W_0 instead.\n"
     ]
    },
    {
     "name": "stdout",
     "output_type": "stream",
     "text": [
      "INFO:tensorflow:Summary name convolution2d_54_b:0 is illegal; using convolution2d_54_b_0 instead.\n"
     ]
    },
    {
     "name": "stderr",
     "output_type": "stream",
     "text": [
      "INFO:tensorflow:Summary name convolution2d_54_b:0 is illegal; using convolution2d_54_b_0 instead.\n"
     ]
    },
    {
     "name": "stdout",
     "output_type": "stream",
     "text": [
      "INFO:tensorflow:Summary name batchnormalization_48_gamma:0 is illegal; using batchnormalization_48_gamma_0 instead.\n"
     ]
    },
    {
     "name": "stderr",
     "output_type": "stream",
     "text": [
      "INFO:tensorflow:Summary name batchnormalization_48_gamma:0 is illegal; using batchnormalization_48_gamma_0 instead.\n"
     ]
    },
    {
     "name": "stdout",
     "output_type": "stream",
     "text": [
      "INFO:tensorflow:Summary name batchnormalization_48_beta:0 is illegal; using batchnormalization_48_beta_0 instead.\n"
     ]
    },
    {
     "name": "stderr",
     "output_type": "stream",
     "text": [
      "INFO:tensorflow:Summary name batchnormalization_48_beta:0 is illegal; using batchnormalization_48_beta_0 instead.\n"
     ]
    },
    {
     "name": "stdout",
     "output_type": "stream",
     "text": [
      "INFO:tensorflow:Summary name batchnormalization_48_running_mean:0 is illegal; using batchnormalization_48_running_mean_0 instead.\n"
     ]
    },
    {
     "name": "stderr",
     "output_type": "stream",
     "text": [
      "INFO:tensorflow:Summary name batchnormalization_48_running_mean:0 is illegal; using batchnormalization_48_running_mean_0 instead.\n"
     ]
    },
    {
     "name": "stdout",
     "output_type": "stream",
     "text": [
      "INFO:tensorflow:Summary name batchnormalization_48_running_std:0 is illegal; using batchnormalization_48_running_std_0 instead.\n"
     ]
    },
    {
     "name": "stderr",
     "output_type": "stream",
     "text": [
      "INFO:tensorflow:Summary name batchnormalization_48_running_std:0 is illegal; using batchnormalization_48_running_std_0 instead.\n"
     ]
    },
    {
     "name": "stdout",
     "output_type": "stream",
     "text": [
      "INFO:tensorflow:Summary name convolution2d_55_W:0 is illegal; using convolution2d_55_W_0 instead.\n"
     ]
    },
    {
     "name": "stderr",
     "output_type": "stream",
     "text": [
      "INFO:tensorflow:Summary name convolution2d_55_W:0 is illegal; using convolution2d_55_W_0 instead.\n"
     ]
    },
    {
     "name": "stdout",
     "output_type": "stream",
     "text": [
      "INFO:tensorflow:Summary name convolution2d_55_b:0 is illegal; using convolution2d_55_b_0 instead.\n"
     ]
    },
    {
     "name": "stderr",
     "output_type": "stream",
     "text": [
      "INFO:tensorflow:Summary name convolution2d_55_b:0 is illegal; using convolution2d_55_b_0 instead.\n"
     ]
    },
    {
     "name": "stdout",
     "output_type": "stream",
     "text": [
      "INFO:tensorflow:Summary name batchnormalization_49_gamma:0 is illegal; using batchnormalization_49_gamma_0 instead.\n"
     ]
    },
    {
     "name": "stderr",
     "output_type": "stream",
     "text": [
      "INFO:tensorflow:Summary name batchnormalization_49_gamma:0 is illegal; using batchnormalization_49_gamma_0 instead.\n"
     ]
    },
    {
     "name": "stdout",
     "output_type": "stream",
     "text": [
      "INFO:tensorflow:Summary name batchnormalization_49_beta:0 is illegal; using batchnormalization_49_beta_0 instead.\n"
     ]
    },
    {
     "name": "stderr",
     "output_type": "stream",
     "text": [
      "INFO:tensorflow:Summary name batchnormalization_49_beta:0 is illegal; using batchnormalization_49_beta_0 instead.\n"
     ]
    },
    {
     "name": "stdout",
     "output_type": "stream",
     "text": [
      "INFO:tensorflow:Summary name batchnormalization_49_running_mean:0 is illegal; using batchnormalization_49_running_mean_0 instead.\n"
     ]
    },
    {
     "name": "stderr",
     "output_type": "stream",
     "text": [
      "INFO:tensorflow:Summary name batchnormalization_49_running_mean:0 is illegal; using batchnormalization_49_running_mean_0 instead.\n"
     ]
    },
    {
     "name": "stdout",
     "output_type": "stream",
     "text": [
      "INFO:tensorflow:Summary name batchnormalization_49_running_std:0 is illegal; using batchnormalization_49_running_std_0 instead.\n"
     ]
    },
    {
     "name": "stderr",
     "output_type": "stream",
     "text": [
      "INFO:tensorflow:Summary name batchnormalization_49_running_std:0 is illegal; using batchnormalization_49_running_std_0 instead.\n"
     ]
    },
    {
     "name": "stdout",
     "output_type": "stream",
     "text": [
      "INFO:tensorflow:Summary name convolution2d_56_W:0 is illegal; using convolution2d_56_W_0 instead.\n"
     ]
    },
    {
     "name": "stderr",
     "output_type": "stream",
     "text": [
      "INFO:tensorflow:Summary name convolution2d_56_W:0 is illegal; using convolution2d_56_W_0 instead.\n"
     ]
    },
    {
     "name": "stdout",
     "output_type": "stream",
     "text": [
      "INFO:tensorflow:Summary name convolution2d_56_b:0 is illegal; using convolution2d_56_b_0 instead.\n"
     ]
    },
    {
     "name": "stderr",
     "output_type": "stream",
     "text": [
      "INFO:tensorflow:Summary name convolution2d_56_b:0 is illegal; using convolution2d_56_b_0 instead.\n"
     ]
    },
    {
     "name": "stdout",
     "output_type": "stream",
     "text": [
      "INFO:tensorflow:Summary name batchnormalization_50_gamma:0 is illegal; using batchnormalization_50_gamma_0 instead.\n"
     ]
    },
    {
     "name": "stderr",
     "output_type": "stream",
     "text": [
      "INFO:tensorflow:Summary name batchnormalization_50_gamma:0 is illegal; using batchnormalization_50_gamma_0 instead.\n"
     ]
    },
    {
     "name": "stdout",
     "output_type": "stream",
     "text": [
      "INFO:tensorflow:Summary name batchnormalization_50_beta:0 is illegal; using batchnormalization_50_beta_0 instead.\n"
     ]
    },
    {
     "name": "stderr",
     "output_type": "stream",
     "text": [
      "INFO:tensorflow:Summary name batchnormalization_50_beta:0 is illegal; using batchnormalization_50_beta_0 instead.\n"
     ]
    },
    {
     "name": "stdout",
     "output_type": "stream",
     "text": [
      "INFO:tensorflow:Summary name batchnormalization_50_running_mean:0 is illegal; using batchnormalization_50_running_mean_0 instead.\n"
     ]
    },
    {
     "name": "stderr",
     "output_type": "stream",
     "text": [
      "INFO:tensorflow:Summary name batchnormalization_50_running_mean:0 is illegal; using batchnormalization_50_running_mean_0 instead.\n"
     ]
    },
    {
     "name": "stdout",
     "output_type": "stream",
     "text": [
      "INFO:tensorflow:Summary name batchnormalization_50_running_std:0 is illegal; using batchnormalization_50_running_std_0 instead.\n"
     ]
    },
    {
     "name": "stderr",
     "output_type": "stream",
     "text": [
      "INFO:tensorflow:Summary name batchnormalization_50_running_std:0 is illegal; using batchnormalization_50_running_std_0 instead.\n"
     ]
    },
    {
     "name": "stdout",
     "output_type": "stream",
     "text": [
      "INFO:tensorflow:Summary name convolution2d_58_W:0 is illegal; using convolution2d_58_W_0 instead.\n"
     ]
    },
    {
     "name": "stderr",
     "output_type": "stream",
     "text": [
      "INFO:tensorflow:Summary name convolution2d_58_W:0 is illegal; using convolution2d_58_W_0 instead.\n"
     ]
    },
    {
     "name": "stdout",
     "output_type": "stream",
     "text": [
      "INFO:tensorflow:Summary name convolution2d_58_b:0 is illegal; using convolution2d_58_b_0 instead.\n"
     ]
    },
    {
     "name": "stderr",
     "output_type": "stream",
     "text": [
      "INFO:tensorflow:Summary name convolution2d_58_b:0 is illegal; using convolution2d_58_b_0 instead.\n"
     ]
    },
    {
     "name": "stdout",
     "output_type": "stream",
     "text": [
      "INFO:tensorflow:Summary name convolution2d_57_W:0 is illegal; using convolution2d_57_W_0 instead.\n"
     ]
    },
    {
     "name": "stderr",
     "output_type": "stream",
     "text": [
      "INFO:tensorflow:Summary name convolution2d_57_W:0 is illegal; using convolution2d_57_W_0 instead.\n"
     ]
    },
    {
     "name": "stdout",
     "output_type": "stream",
     "text": [
      "INFO:tensorflow:Summary name convolution2d_57_b:0 is illegal; using convolution2d_57_b_0 instead.\n"
     ]
    },
    {
     "name": "stderr",
     "output_type": "stream",
     "text": [
      "INFO:tensorflow:Summary name convolution2d_57_b:0 is illegal; using convolution2d_57_b_0 instead.\n"
     ]
    },
    {
     "name": "stdout",
     "output_type": "stream",
     "text": [
      "INFO:tensorflow:Summary name batchnormalization_51_gamma:0 is illegal; using batchnormalization_51_gamma_0 instead.\n"
     ]
    },
    {
     "name": "stderr",
     "output_type": "stream",
     "text": [
      "INFO:tensorflow:Summary name batchnormalization_51_gamma:0 is illegal; using batchnormalization_51_gamma_0 instead.\n"
     ]
    },
    {
     "name": "stdout",
     "output_type": "stream",
     "text": [
      "INFO:tensorflow:Summary name batchnormalization_51_beta:0 is illegal; using batchnormalization_51_beta_0 instead.\n"
     ]
    },
    {
     "name": "stderr",
     "output_type": "stream",
     "text": [
      "INFO:tensorflow:Summary name batchnormalization_51_beta:0 is illegal; using batchnormalization_51_beta_0 instead.\n"
     ]
    },
    {
     "name": "stdout",
     "output_type": "stream",
     "text": [
      "INFO:tensorflow:Summary name batchnormalization_51_running_mean:0 is illegal; using batchnormalization_51_running_mean_0 instead.\n"
     ]
    },
    {
     "name": "stderr",
     "output_type": "stream",
     "text": [
      "INFO:tensorflow:Summary name batchnormalization_51_running_mean:0 is illegal; using batchnormalization_51_running_mean_0 instead.\n"
     ]
    },
    {
     "name": "stdout",
     "output_type": "stream",
     "text": [
      "INFO:tensorflow:Summary name batchnormalization_51_running_std:0 is illegal; using batchnormalization_51_running_std_0 instead.\n"
     ]
    },
    {
     "name": "stderr",
     "output_type": "stream",
     "text": [
      "INFO:tensorflow:Summary name batchnormalization_51_running_std:0 is illegal; using batchnormalization_51_running_std_0 instead.\n"
     ]
    },
    {
     "name": "stdout",
     "output_type": "stream",
     "text": [
      "INFO:tensorflow:Summary name convolution2d_59_W:0 is illegal; using convolution2d_59_W_0 instead.\n"
     ]
    },
    {
     "name": "stderr",
     "output_type": "stream",
     "text": [
      "INFO:tensorflow:Summary name convolution2d_59_W:0 is illegal; using convolution2d_59_W_0 instead.\n"
     ]
    },
    {
     "name": "stdout",
     "output_type": "stream",
     "text": [
      "INFO:tensorflow:Summary name convolution2d_59_b:0 is illegal; using convolution2d_59_b_0 instead.\n"
     ]
    },
    {
     "name": "stderr",
     "output_type": "stream",
     "text": [
      "INFO:tensorflow:Summary name convolution2d_59_b:0 is illegal; using convolution2d_59_b_0 instead.\n"
     ]
    },
    {
     "name": "stdout",
     "output_type": "stream",
     "text": [
      "INFO:tensorflow:Summary name batchnormalization_52_gamma:0 is illegal; using batchnormalization_52_gamma_0 instead.\n"
     ]
    },
    {
     "name": "stderr",
     "output_type": "stream",
     "text": [
      "INFO:tensorflow:Summary name batchnormalization_52_gamma:0 is illegal; using batchnormalization_52_gamma_0 instead.\n"
     ]
    },
    {
     "name": "stdout",
     "output_type": "stream",
     "text": [
      "INFO:tensorflow:Summary name batchnormalization_52_beta:0 is illegal; using batchnormalization_52_beta_0 instead.\n"
     ]
    },
    {
     "name": "stderr",
     "output_type": "stream",
     "text": [
      "INFO:tensorflow:Summary name batchnormalization_52_beta:0 is illegal; using batchnormalization_52_beta_0 instead.\n"
     ]
    },
    {
     "name": "stdout",
     "output_type": "stream",
     "text": [
      "INFO:tensorflow:Summary name batchnormalization_52_running_mean:0 is illegal; using batchnormalization_52_running_mean_0 instead.\n"
     ]
    },
    {
     "name": "stderr",
     "output_type": "stream",
     "text": [
      "INFO:tensorflow:Summary name batchnormalization_52_running_mean:0 is illegal; using batchnormalization_52_running_mean_0 instead.\n"
     ]
    },
    {
     "name": "stdout",
     "output_type": "stream",
     "text": [
      "INFO:tensorflow:Summary name batchnormalization_52_running_std:0 is illegal; using batchnormalization_52_running_std_0 instead.\n"
     ]
    },
    {
     "name": "stderr",
     "output_type": "stream",
     "text": [
      "INFO:tensorflow:Summary name batchnormalization_52_running_std:0 is illegal; using batchnormalization_52_running_std_0 instead.\n"
     ]
    },
    {
     "name": "stdout",
     "output_type": "stream",
     "text": [
      "INFO:tensorflow:Summary name convolution2d_60_W:0 is illegal; using convolution2d_60_W_0 instead.\n"
     ]
    },
    {
     "name": "stderr",
     "output_type": "stream",
     "text": [
      "INFO:tensorflow:Summary name convolution2d_60_W:0 is illegal; using convolution2d_60_W_0 instead.\n"
     ]
    },
    {
     "name": "stdout",
     "output_type": "stream",
     "text": [
      "INFO:tensorflow:Summary name convolution2d_60_b:0 is illegal; using convolution2d_60_b_0 instead.\n"
     ]
    },
    {
     "name": "stderr",
     "output_type": "stream",
     "text": [
      "INFO:tensorflow:Summary name convolution2d_60_b:0 is illegal; using convolution2d_60_b_0 instead.\n"
     ]
    },
    {
     "name": "stdout",
     "output_type": "stream",
     "text": [
      "INFO:tensorflow:Summary name batchnormalization_53_gamma:0 is illegal; using batchnormalization_53_gamma_0 instead.\n"
     ]
    },
    {
     "name": "stderr",
     "output_type": "stream",
     "text": [
      "INFO:tensorflow:Summary name batchnormalization_53_gamma:0 is illegal; using batchnormalization_53_gamma_0 instead.\n"
     ]
    },
    {
     "name": "stdout",
     "output_type": "stream",
     "text": [
      "INFO:tensorflow:Summary name batchnormalization_53_beta:0 is illegal; using batchnormalization_53_beta_0 instead.\n"
     ]
    },
    {
     "name": "stderr",
     "output_type": "stream",
     "text": [
      "INFO:tensorflow:Summary name batchnormalization_53_beta:0 is illegal; using batchnormalization_53_beta_0 instead.\n"
     ]
    },
    {
     "name": "stdout",
     "output_type": "stream",
     "text": [
      "INFO:tensorflow:Summary name batchnormalization_53_running_mean:0 is illegal; using batchnormalization_53_running_mean_0 instead.\n"
     ]
    },
    {
     "name": "stderr",
     "output_type": "stream",
     "text": [
      "INFO:tensorflow:Summary name batchnormalization_53_running_mean:0 is illegal; using batchnormalization_53_running_mean_0 instead.\n"
     ]
    },
    {
     "name": "stdout",
     "output_type": "stream",
     "text": [
      "INFO:tensorflow:Summary name batchnormalization_53_running_std:0 is illegal; using batchnormalization_53_running_std_0 instead.\n"
     ]
    },
    {
     "name": "stderr",
     "output_type": "stream",
     "text": [
      "INFO:tensorflow:Summary name batchnormalization_53_running_std:0 is illegal; using batchnormalization_53_running_std_0 instead.\n"
     ]
    },
    {
     "name": "stdout",
     "output_type": "stream",
     "text": [
      "INFO:tensorflow:Summary name batchnormalization_54_gamma:0 is illegal; using batchnormalization_54_gamma_0 instead.\n"
     ]
    },
    {
     "name": "stderr",
     "output_type": "stream",
     "text": [
      "INFO:tensorflow:Summary name batchnormalization_54_gamma:0 is illegal; using batchnormalization_54_gamma_0 instead.\n"
     ]
    },
    {
     "name": "stdout",
     "output_type": "stream",
     "text": [
      "INFO:tensorflow:Summary name batchnormalization_54_beta:0 is illegal; using batchnormalization_54_beta_0 instead.\n"
     ]
    },
    {
     "name": "stderr",
     "output_type": "stream",
     "text": [
      "INFO:tensorflow:Summary name batchnormalization_54_beta:0 is illegal; using batchnormalization_54_beta_0 instead.\n"
     ]
    },
    {
     "name": "stdout",
     "output_type": "stream",
     "text": [
      "INFO:tensorflow:Summary name batchnormalization_54_running_mean:0 is illegal; using batchnormalization_54_running_mean_0 instead.\n"
     ]
    },
    {
     "name": "stderr",
     "output_type": "stream",
     "text": [
      "INFO:tensorflow:Summary name batchnormalization_54_running_mean:0 is illegal; using batchnormalization_54_running_mean_0 instead.\n"
     ]
    },
    {
     "name": "stdout",
     "output_type": "stream",
     "text": [
      "INFO:tensorflow:Summary name batchnormalization_54_running_std:0 is illegal; using batchnormalization_54_running_std_0 instead.\n"
     ]
    },
    {
     "name": "stderr",
     "output_type": "stream",
     "text": [
      "INFO:tensorflow:Summary name batchnormalization_54_running_std:0 is illegal; using batchnormalization_54_running_std_0 instead.\n"
     ]
    },
    {
     "name": "stdout",
     "output_type": "stream",
     "text": [
      "INFO:tensorflow:Summary name dense_3_W:0 is illegal; using dense_3_W_0 instead.\n"
     ]
    },
    {
     "name": "stderr",
     "output_type": "stream",
     "text": [
      "INFO:tensorflow:Summary name dense_3_W:0 is illegal; using dense_3_W_0 instead.\n"
     ]
    },
    {
     "name": "stdout",
     "output_type": "stream",
     "text": [
      "INFO:tensorflow:Summary name dense_3_b:0 is illegal; using dense_3_b_0 instead.\n"
     ]
    },
    {
     "name": "stderr",
     "output_type": "stream",
     "text": [
      "INFO:tensorflow:Summary name dense_3_b:0 is illegal; using dense_3_b_0 instead.\n"
     ]
    },
    {
     "name": "stdout",
     "output_type": "stream",
     "text": [
      "Epoch 1/500\n",
      "Found 33139 images belonging to 2 classes.\n",
      "480/500 [===========================>..] - ETA: 7s - loss: 1.5309 - acc: 0.7146 - fmeasure: 0.5082 Found 27675 images belonging to 2 classes.\n",
      "512/500 [==============================] - 221s - loss: 1.5136 - acc: 0.7305 - fmeasure: 0.5352 - val_loss: 9.7283 - val_acc: 0.0156 - val_fmeasure: 0.0303\n",
      "Epoch 2/500\n",
      "512/500 [==============================] - 205s - loss: 1.3277 - acc: 0.8691 - fmeasure: 0.6538 - val_loss: 7.5220 - val_acc: 0.0469 - val_fmeasure: 0.0588\n",
      "Epoch 3/500\n",
      "256/500 [==============>...............] - ETA: 91s - loss: 1.2722 - acc: 0.8906 - fmeasure: 0.6631 "
     ]
    }
   ],
   "source": [
    "import os\n",
    "import random\n",
    "import logging\n",
    "import multiprocessing\n",
    "import numpy as np\n",
    "import pandas as pd\n",
    "from time import time\n",
    "import matplotlib.pyplot as plt\n",
    "from sklearn import metrics\n",
    "from keras import backend as K\n",
    "from keras.preprocessing.image import ImageDataGenerator\n",
    "from keras.optimizers import Adam\n",
    "from keras.callbacks import ModelCheckpoint, Callback\n",
    "from dl_networks.resnet import ResnetBuilder\n",
    "from dl_utils.tb_callback import TensorBoard\n",
    "\n",
    "\n",
    "OUTPUT_MODEL = '../data/models/vehicle_empty_discriminator.hdf5'  # OUTPUT_MODEL = wp + 'personal/jm_patches_train_v06_local.hdf5'\n",
    "LOGS_PATH    = '../data/logs/%s' % str('vehicle_empty_resnet_v0')\n",
    "\n",
    "#LOGS_PATH = wp + 'logs/%s' % str(int(time()))\n",
    "if not os.path.exists(LOGS_PATH):\n",
    "    os.makedirs(LOGS_PATH)\n",
    "    \n",
    "K.set_image_dim_ordering('th')\n",
    "logging.basicConfig(level=logging.INFO,\n",
    "                    format='%(asctime)s  %(levelname)-8s %(message)s',\n",
    "                    datefmt='%m-%d %H:%M:%S')\n",
    "\n",
    "tb = TensorBoard(log_dir=LOGS_PATH, histogram_freq=1, write_graph=False, write_images=False)  # replace keras.callbacks.TensorBoard\n",
    "model_checkpoint = ModelCheckpoint(OUTPUT_MODEL, monitor='loss', save_best_only=True)\n",
    "\n",
    "\n",
    "\n",
    "# Load model\n",
    "model = ResnetBuilder().build_resnet_18((3,110,110),1)\n",
    "model.compile(optimizer=Adam(lr=1e-4), loss='binary_crossentropy', metrics=['accuracy','fmeasure'])\n",
    "# model.load_weights(OUTPUT_MODEL)\n",
    "\n",
    "\n",
    "batch_size = 32\n",
    "model.fit_generator(generator=train_generator,\n",
    "                    samples_per_epoch=500,  # make it small to update TB and CHECKPOINT frequently\n",
    "                    nb_epoch=500,\n",
    "                    verbose=1,\n",
    "                    #class_weight={0:1., 1:4.},\n",
    "                    callbacks=[tb, model_checkpoint],\n",
    "                    validation_data=test_generator,  # TODO: is_training=False\n",
    "                    nb_val_samples=64,\n",
    "                    max_q_size=256,\n",
    "                    nb_worker=1)  # a locker is needed if increased the number of parallel workers\n"
   ]
  },
  {
   "cell_type": "markdown",
   "metadata": {},
   "source": [
    "### Test on an image"
   ]
  },
  {
   "cell_type": "code",
   "execution_count": 45,
   "metadata": {
    "collapsed": false
   },
   "outputs": [],
   "source": [
    "from sklearn.feature_extraction.image import extract_patches_2d, reconstruct_from_patches_2d\n",
    "\n",
    "patch_size = 110\n",
    "pred_per_row = []\n",
    "for i_row in range(2000-patch_size):\n",
    "    patches = extract_patches_2d(load_image(train_cases[0])[i_row:i_row+110,:], [patch_size,patch_size]).transpose([0,3,1,2])\n",
    "    out = model.predict(patches, batch_size = 32).flatten()\n",
    "    pred_per_row.append(out)\n",
    "\n",
    "#out = out.reshape([out.shape[0],1,1])"
   ]
  },
  {
   "cell_type": "code",
   "execution_count": 24,
   "metadata": {
    "collapsed": false
   },
   "outputs": [],
   "source": [
    "#reconstructed = reconstruct_from_patches_2d(out, [120-patch_size+1,120-patch_size+1])\n",
    "#imshow(reconstructed, cmap = cm.Greys)"
   ]
  },
  {
   "cell_type": "code",
   "execution_count": null,
   "metadata": {
    "collapsed": true
   },
   "outputs": [],
   "source": []
  }
 ],
 "metadata": {
  "kernelspec": {
   "display_name": "Python 2",
   "language": "python",
   "name": "python2"
  },
  "language_info": {
   "codemirror_mode": {
    "name": "ipython",
    "version": 2
   },
   "file_extension": ".py",
   "mimetype": "text/x-python",
   "name": "python",
   "nbconvert_exporter": "python",
   "pygments_lexer": "ipython2",
   "version": "2.7.12"
  }
 },
 "nbformat": 4,
 "nbformat_minor": 0
}
